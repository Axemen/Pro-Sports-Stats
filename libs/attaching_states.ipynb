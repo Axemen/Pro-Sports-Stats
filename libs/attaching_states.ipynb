{
 "cells": [
  {
   "cell_type": "code",
   "execution_count": 47,
   "metadata": {},
   "outputs": [],
   "source": [
    "import pandas as pd\n",
    "import tqdm\n",
    "import numpy as np"
   ]
  },
  {
   "cell_type": "code",
   "execution_count": 2,
   "metadata": {},
   "outputs": [],
   "source": [
    "nfl_schools = pd.read_csv('unclean_data/university_info/nfl_player_unis.csv')"
   ]
  },
  {
   "cell_type": "code",
   "execution_count": 3,
   "metadata": {},
   "outputs": [],
   "source": [
    "nfl_stats = pd.read_csv('data/nfl_av_ratings_all.csv')"
   ]
  },
  {
   "cell_type": "code",
   "execution_count": 4,
   "metadata": {},
   "outputs": [
    {
     "data": {
      "text/plain": [
       "Index(['Unnamed: 0', 'Unnamed: 0.1', 'Rk', 'Player', 'Year', 'Age', 'Draft',\n",
       "       'Tm', 'Lg', 'G', 'GS', 'Yrs', 'PB', 'AP1', 'AV', 'percentile_av'],\n",
       "      dtype='object')"
      ]
     },
     "execution_count": 4,
     "metadata": {},
     "output_type": "execute_result"
    }
   ],
   "source": [
    "nfl_stats.columns"
   ]
  },
  {
   "cell_type": "code",
   "execution_count": 5,
   "metadata": {},
   "outputs": [],
   "source": [
    "nfl_stats.drop(columns = ['Unnamed: 0', 'Unnamed: 0.1'], inplace = True)"
   ]
  },
  {
   "cell_type": "code",
   "execution_count": 6,
   "metadata": {},
   "outputs": [
    {
     "data": {
      "text/html": [
       "<div>\n",
       "<style scoped>\n",
       "    .dataframe tbody tr th:only-of-type {\n",
       "        vertical-align: middle;\n",
       "    }\n",
       "\n",
       "    .dataframe tbody tr th {\n",
       "        vertical-align: top;\n",
       "    }\n",
       "\n",
       "    .dataframe thead th {\n",
       "        text-align: right;\n",
       "    }\n",
       "</style>\n",
       "<table border=\"1\" class=\"dataframe\">\n",
       "  <thead>\n",
       "    <tr style=\"text-align: right;\">\n",
       "      <th></th>\n",
       "      <th>Rk</th>\n",
       "      <th>Player</th>\n",
       "      <th>Year</th>\n",
       "      <th>Age</th>\n",
       "      <th>Draft</th>\n",
       "      <th>Tm</th>\n",
       "      <th>Lg</th>\n",
       "      <th>G</th>\n",
       "      <th>GS</th>\n",
       "      <th>Yrs</th>\n",
       "      <th>PB</th>\n",
       "      <th>AP1</th>\n",
       "      <th>AV</th>\n",
       "      <th>percentile_av</th>\n",
       "    </tr>\n",
       "  </thead>\n",
       "  <tbody>\n",
       "    <tr>\n",
       "      <th>0</th>\n",
       "      <td>1</td>\n",
       "      <td>Aaron Rodgers\\RodgAa00</td>\n",
       "      <td>2011</td>\n",
       "      <td>28.0</td>\n",
       "      <td>1-24</td>\n",
       "      <td>GNB</td>\n",
       "      <td>NFL</td>\n",
       "      <td>15.0</td>\n",
       "      <td>15.0</td>\n",
       "      <td>1</td>\n",
       "      <td>1</td>\n",
       "      <td>1</td>\n",
       "      <td>23.0</td>\n",
       "      <td>100</td>\n",
       "    </tr>\n",
       "    <tr>\n",
       "      <th>1</th>\n",
       "      <td>2</td>\n",
       "      <td>Tom Brady\\BradTo00</td>\n",
       "      <td>2011</td>\n",
       "      <td>34.0</td>\n",
       "      <td>6-199</td>\n",
       "      <td>NWE</td>\n",
       "      <td>NFL</td>\n",
       "      <td>16.0</td>\n",
       "      <td>16.0</td>\n",
       "      <td>1</td>\n",
       "      <td>1</td>\n",
       "      <td>0</td>\n",
       "      <td>21.0</td>\n",
       "      <td>99</td>\n",
       "    </tr>\n",
       "    <tr>\n",
       "      <th>2</th>\n",
       "      <td>3</td>\n",
       "      <td>Drew Brees\\BreeDr00</td>\n",
       "      <td>2011</td>\n",
       "      <td>32.0</td>\n",
       "      <td>2-32</td>\n",
       "      <td>NOR</td>\n",
       "      <td>NFL</td>\n",
       "      <td>16.0</td>\n",
       "      <td>16.0</td>\n",
       "      <td>1</td>\n",
       "      <td>1</td>\n",
       "      <td>0</td>\n",
       "      <td>20.0</td>\n",
       "      <td>99</td>\n",
       "    </tr>\n",
       "    <tr>\n",
       "      <th>3</th>\n",
       "      <td>4</td>\n",
       "      <td>Patrick Peterson\\PetePa00</td>\n",
       "      <td>2011</td>\n",
       "      <td>21.0</td>\n",
       "      <td>1-5</td>\n",
       "      <td>ARI</td>\n",
       "      <td>NFL</td>\n",
       "      <td>16.0</td>\n",
       "      <td>16.0</td>\n",
       "      <td>1</td>\n",
       "      <td>1</td>\n",
       "      <td>1</td>\n",
       "      <td>20.0</td>\n",
       "      <td>99</td>\n",
       "    </tr>\n",
       "    <tr>\n",
       "      <th>4</th>\n",
       "      <td>5</td>\n",
       "      <td>Jahri Evans\\EvanJa21</td>\n",
       "      <td>2011</td>\n",
       "      <td>28.0</td>\n",
       "      <td>4-108</td>\n",
       "      <td>NOR</td>\n",
       "      <td>NFL</td>\n",
       "      <td>16.0</td>\n",
       "      <td>16.0</td>\n",
       "      <td>1</td>\n",
       "      <td>1</td>\n",
       "      <td>1</td>\n",
       "      <td>19.0</td>\n",
       "      <td>99</td>\n",
       "    </tr>\n",
       "  </tbody>\n",
       "</table>\n",
       "</div>"
      ],
      "text/plain": [
       "   Rk                     Player  Year   Age  Draft   Tm   Lg     G    GS  \\\n",
       "0   1     Aaron Rodgers\\RodgAa00  2011  28.0   1-24  GNB  NFL  15.0  15.0   \n",
       "1   2         Tom Brady\\BradTo00  2011  34.0  6-199  NWE  NFL  16.0  16.0   \n",
       "2   3        Drew Brees\\BreeDr00  2011  32.0   2-32  NOR  NFL  16.0  16.0   \n",
       "3   4  Patrick Peterson\\PetePa00  2011  21.0    1-5  ARI  NFL  16.0  16.0   \n",
       "4   5       Jahri Evans\\EvanJa21  2011  28.0  4-108  NOR  NFL  16.0  16.0   \n",
       "\n",
       "   Yrs  PB  AP1    AV  percentile_av  \n",
       "0    1   1    1  23.0            100  \n",
       "1    1   1    0  21.0             99  \n",
       "2    1   1    0  20.0             99  \n",
       "3    1   1    1  20.0             99  \n",
       "4    1   1    1  19.0             99  "
      ]
     },
     "execution_count": 6,
     "metadata": {},
     "output_type": "execute_result"
    }
   ],
   "source": [
    "nfl_stats.head()"
   ]
  },
  {
   "cell_type": "code",
   "execution_count": 7,
   "metadata": {},
   "outputs": [
    {
     "data": {
      "text/plain": [
       "15"
      ]
     },
     "execution_count": 7,
     "metadata": {},
     "output_type": "execute_result"
    }
   ],
   "source": [
    "nfl_stats['name'] = ''\n",
    "len(nfl_stats.columns)"
   ]
  },
  {
   "cell_type": "code",
   "execution_count": 22,
   "metadata": {},
   "outputs": [],
   "source": [
    "for i in range(len(nfl_stats)):\n",
    "    nfl_stats.iat[i, 1] = nfl_stats.iat[i, 1].split('\\\\')[0]"
   ]
  },
  {
   "cell_type": "code",
   "execution_count": 23,
   "metadata": {},
   "outputs": [
    {
     "data": {
      "text/html": [
       "<div>\n",
       "<style scoped>\n",
       "    .dataframe tbody tr th:only-of-type {\n",
       "        vertical-align: middle;\n",
       "    }\n",
       "\n",
       "    .dataframe tbody tr th {\n",
       "        vertical-align: top;\n",
       "    }\n",
       "\n",
       "    .dataframe thead th {\n",
       "        text-align: right;\n",
       "    }\n",
       "</style>\n",
       "<table border=\"1\" class=\"dataframe\">\n",
       "  <thead>\n",
       "    <tr style=\"text-align: right;\">\n",
       "      <th></th>\n",
       "      <th>Rk</th>\n",
       "      <th>Player</th>\n",
       "      <th>Year</th>\n",
       "      <th>Age</th>\n",
       "      <th>Draft</th>\n",
       "      <th>Tm</th>\n",
       "      <th>Lg</th>\n",
       "      <th>G</th>\n",
       "      <th>GS</th>\n",
       "      <th>Yrs</th>\n",
       "      <th>PB</th>\n",
       "      <th>AP1</th>\n",
       "      <th>AV</th>\n",
       "      <th>percentile_av</th>\n",
       "      <th>name</th>\n",
       "    </tr>\n",
       "  </thead>\n",
       "  <tbody>\n",
       "    <tr>\n",
       "      <th>0</th>\n",
       "      <td>1</td>\n",
       "      <td>Aaron Rodgers</td>\n",
       "      <td>2011</td>\n",
       "      <td>28.0</td>\n",
       "      <td>1-24</td>\n",
       "      <td>GNB</td>\n",
       "      <td>NFL</td>\n",
       "      <td>15.0</td>\n",
       "      <td>15.0</td>\n",
       "      <td>1</td>\n",
       "      <td>1</td>\n",
       "      <td>1</td>\n",
       "      <td>23.0</td>\n",
       "      <td>100</td>\n",
       "      <td></td>\n",
       "    </tr>\n",
       "    <tr>\n",
       "      <th>1</th>\n",
       "      <td>2</td>\n",
       "      <td>Tom Brady</td>\n",
       "      <td>2011</td>\n",
       "      <td>34.0</td>\n",
       "      <td>6-199</td>\n",
       "      <td>NWE</td>\n",
       "      <td>NFL</td>\n",
       "      <td>16.0</td>\n",
       "      <td>16.0</td>\n",
       "      <td>1</td>\n",
       "      <td>1</td>\n",
       "      <td>0</td>\n",
       "      <td>21.0</td>\n",
       "      <td>99</td>\n",
       "      <td></td>\n",
       "    </tr>\n",
       "    <tr>\n",
       "      <th>2</th>\n",
       "      <td>3</td>\n",
       "      <td>Drew Brees</td>\n",
       "      <td>2011</td>\n",
       "      <td>32.0</td>\n",
       "      <td>2-32</td>\n",
       "      <td>NOR</td>\n",
       "      <td>NFL</td>\n",
       "      <td>16.0</td>\n",
       "      <td>16.0</td>\n",
       "      <td>1</td>\n",
       "      <td>1</td>\n",
       "      <td>0</td>\n",
       "      <td>20.0</td>\n",
       "      <td>99</td>\n",
       "      <td></td>\n",
       "    </tr>\n",
       "    <tr>\n",
       "      <th>3</th>\n",
       "      <td>4</td>\n",
       "      <td>Patrick Peterson</td>\n",
       "      <td>2011</td>\n",
       "      <td>21.0</td>\n",
       "      <td>1-5</td>\n",
       "      <td>ARI</td>\n",
       "      <td>NFL</td>\n",
       "      <td>16.0</td>\n",
       "      <td>16.0</td>\n",
       "      <td>1</td>\n",
       "      <td>1</td>\n",
       "      <td>1</td>\n",
       "      <td>20.0</td>\n",
       "      <td>99</td>\n",
       "      <td></td>\n",
       "    </tr>\n",
       "    <tr>\n",
       "      <th>4</th>\n",
       "      <td>5</td>\n",
       "      <td>Jahri Evans</td>\n",
       "      <td>2011</td>\n",
       "      <td>28.0</td>\n",
       "      <td>4-108</td>\n",
       "      <td>NOR</td>\n",
       "      <td>NFL</td>\n",
       "      <td>16.0</td>\n",
       "      <td>16.0</td>\n",
       "      <td>1</td>\n",
       "      <td>1</td>\n",
       "      <td>1</td>\n",
       "      <td>19.0</td>\n",
       "      <td>99</td>\n",
       "      <td></td>\n",
       "    </tr>\n",
       "  </tbody>\n",
       "</table>\n",
       "</div>"
      ],
      "text/plain": [
       "   Rk            Player  Year   Age  Draft   Tm   Lg     G    GS  Yrs  PB  \\\n",
       "0   1     Aaron Rodgers  2011  28.0   1-24  GNB  NFL  15.0  15.0    1   1   \n",
       "1   2         Tom Brady  2011  34.0  6-199  NWE  NFL  16.0  16.0    1   1   \n",
       "2   3        Drew Brees  2011  32.0   2-32  NOR  NFL  16.0  16.0    1   1   \n",
       "3   4  Patrick Peterson  2011  21.0    1-5  ARI  NFL  16.0  16.0    1   1   \n",
       "4   5       Jahri Evans  2011  28.0  4-108  NOR  NFL  16.0  16.0    1   1   \n",
       "\n",
       "   AP1    AV  percentile_av name  \n",
       "0    1  23.0            100       \n",
       "1    0  21.0             99       \n",
       "2    0  20.0             99       \n",
       "3    1  20.0             99       \n",
       "4    1  19.0             99       "
      ]
     },
     "execution_count": 23,
     "metadata": {},
     "output_type": "execute_result"
    }
   ],
   "source": [
    "nfl_stats.head()"
   ]
  },
  {
   "cell_type": "code",
   "execution_count": 8,
   "metadata": {},
   "outputs": [],
   "source": [
    "nfl_schools.drop(columns = ['Unnamed: 0'], inplace = True)"
   ]
  },
  {
   "cell_type": "code",
   "execution_count": 37,
   "metadata": {},
   "outputs": [
    {
     "data": {
      "text/plain": [
       "Index(['school_name', 'college', 'Player', 'state'], dtype='object')"
      ]
     },
     "execution_count": 37,
     "metadata": {},
     "output_type": "execute_result"
    }
   ],
   "source": [
    "nfl_schools.columns"
   ]
  },
  {
   "cell_type": "code",
   "execution_count": 27,
   "metadata": {},
   "outputs": [],
   "source": [
    "nfl_schools.rename(columns = {'index': 'school_name', 'name': 'Player'}, inplace = True)"
   ]
  },
  {
   "cell_type": "code",
   "execution_count": 38,
   "metadata": {},
   "outputs": [],
   "source": [
    "for i in range(len(nfl_schools)):\n",
    "    nfl_schools.iat[i, 2] = nfl_schools.iat[i, 2].strip()"
   ]
  },
  {
   "cell_type": "code",
   "execution_count": 24,
   "metadata": {},
   "outputs": [],
   "source": [
    "df = nfl_stats[['Player', 'Year', 'Tm', 'AV', 'percentile_av']]"
   ]
  },
  {
   "cell_type": "code",
   "execution_count": 36,
   "metadata": {},
   "outputs": [
    {
     "data": {
      "text/plain": [
       "'Aaron Rodgers'"
      ]
     },
     "execution_count": 36,
     "metadata": {},
     "output_type": "execute_result"
    }
   ],
   "source": [
    "x = 'Aaron Rodgers '\n",
    "x.strip()"
   ]
  },
  {
   "cell_type": "code",
   "execution_count": 42,
   "metadata": {},
   "outputs": [],
   "source": [
    "merged = df.merge(nfl_schools, how = 'left')"
   ]
  },
  {
   "cell_type": "code",
   "execution_count": 53,
   "metadata": {},
   "outputs": [
    {
     "data": {
      "text/plain": [
       "nan"
      ]
     },
     "execution_count": 53,
     "metadata": {},
     "output_type": "execute_result"
    }
   ],
   "source": [
    "merged.loc[merged['Player'] == 'Patrick Peterson'].iat[0, 7]"
   ]
  },
  {
   "cell_type": "code",
   "execution_count": 58,
   "metadata": {},
   "outputs": [],
   "source": [
    "merged.drop(columns = ['school_name'], inplace = True)"
   ]
  },
  {
   "cell_type": "code",
   "execution_count": 64,
   "metadata": {},
   "outputs": [],
   "source": [
    "merged.dropna(thresh = 6, inplace = True)"
   ]
  },
  {
   "cell_type": "code",
   "execution_count": 80,
   "metadata": {},
   "outputs": [
    {
     "data": {
      "text/plain": [
       "array(['CA', 'MI', 'IN', nan, 'PA', 'AL', 'SC', 'NE', 'OR', 'MO', 'TX',\n",
       "       'NJ', 'GA', 'TN', 'MS', 'WA', 'AZ', 'FL', 'UT', 'MD', 'MA', 'AR',\n",
       "       'CO', 'NC', 'IA', 'NY', 'NV', 'WI', 'IL', 'WV', 'KY', 'LA', 'VA',\n",
       "       'WY', 'OK', 'OH', 'ID', 'HI', 'ME', 'NM', 'MN', 'ND', 'KS', 'CT',\n",
       "       'NH', 'RI', 'SD'], dtype=object)"
      ]
     },
     "execution_count": 80,
     "metadata": {},
     "output_type": "execute_result"
    }
   ],
   "source": [
    "merged.state.unique()"
   ]
  },
  {
   "cell_type": "code",
   "execution_count": 71,
   "metadata": {},
   "outputs": [],
   "source": [
    "college_list = merged[merged.isnull().any(axis=1)].college.unique().tolist()"
   ]
  },
  {
   "cell_type": "code",
   "execution_count": 73,
   "metadata": {},
   "outputs": [
    {
     "data": {
      "text/plain": [
       "179"
      ]
     },
     "execution_count": 73,
     "metadata": {},
     "output_type": "execute_result"
    }
   ],
   "source": [
    "len(college_list)"
   ]
  },
  {
   "cell_type": "code",
   "execution_count": 74,
   "metadata": {},
   "outputs": [],
   "source": [
    "list_df = pd.DataFrame(columns = ['college', 'st'], index = [i for i in range(179)])"
   ]
  },
  {
   "cell_type": "code",
   "execution_count": 75,
   "metadata": {},
   "outputs": [],
   "source": [
    "list_df['college'] = college_list"
   ]
  },
  {
   "cell_type": "code",
   "execution_count": 78,
   "metadata": {},
   "outputs": [],
   "source": [
    "list_df.to_csv('college_st.csv')"
   ]
  },
  {
   "cell_type": "code",
   "execution_count": 81,
   "metadata": {},
   "outputs": [],
   "source": [
    "list_df = pd.read_csv('college_st.csv')"
   ]
  },
  {
   "cell_type": "code",
   "execution_count": 90,
   "metadata": {},
   "outputs": [],
   "source": [
    "# list_df.drop(columns = ['Unnamed: 0'], inplace = True)\n",
    "list_df.rename(columns= {'st':'state'}, inplace = True)"
   ]
  },
  {
   "cell_type": "code",
   "execution_count": 105,
   "metadata": {},
   "outputs": [
    {
     "data": {
      "text/html": [
       "<div>\n",
       "<style scoped>\n",
       "    .dataframe tbody tr th:only-of-type {\n",
       "        vertical-align: middle;\n",
       "    }\n",
       "\n",
       "    .dataframe tbody tr th {\n",
       "        vertical-align: top;\n",
       "    }\n",
       "\n",
       "    .dataframe thead th {\n",
       "        text-align: right;\n",
       "    }\n",
       "</style>\n",
       "<table border=\"1\" class=\"dataframe\">\n",
       "  <thead>\n",
       "    <tr style=\"text-align: right;\">\n",
       "      <th></th>\n",
       "      <th>Player</th>\n",
       "      <th>Year</th>\n",
       "      <th>Tm</th>\n",
       "      <th>AV</th>\n",
       "      <th>percentile_av</th>\n",
       "      <th>college</th>\n",
       "      <th>state_x</th>\n",
       "      <th>state_y</th>\n",
       "      <th>state</th>\n",
       "    </tr>\n",
       "  </thead>\n",
       "  <tbody>\n",
       "    <tr>\n",
       "      <th>0</th>\n",
       "      <td>Aaron Rodgers</td>\n",
       "      <td>2011</td>\n",
       "      <td>GNB</td>\n",
       "      <td>23.0</td>\n",
       "      <td>100</td>\n",
       "      <td>California</td>\n",
       "      <td>CA</td>\n",
       "      <td>NaN</td>\n",
       "      <td>NaN</td>\n",
       "    </tr>\n",
       "    <tr>\n",
       "      <th>1</th>\n",
       "      <td>Tom Brady</td>\n",
       "      <td>2011</td>\n",
       "      <td>NWE</td>\n",
       "      <td>21.0</td>\n",
       "      <td>99</td>\n",
       "      <td>Michigan</td>\n",
       "      <td>MI</td>\n",
       "      <td>NaN</td>\n",
       "      <td>NaN</td>\n",
       "    </tr>\n",
       "    <tr>\n",
       "      <th>2</th>\n",
       "      <td>Drew Brees</td>\n",
       "      <td>2011</td>\n",
       "      <td>NOR</td>\n",
       "      <td>20.0</td>\n",
       "      <td>99</td>\n",
       "      <td>Purdue</td>\n",
       "      <td>IN</td>\n",
       "      <td>NaN</td>\n",
       "      <td>NaN</td>\n",
       "    </tr>\n",
       "    <tr>\n",
       "      <th>3</th>\n",
       "      <td>Patrick Peterson</td>\n",
       "      <td>2011</td>\n",
       "      <td>ARI</td>\n",
       "      <td>20.0</td>\n",
       "      <td>99</td>\n",
       "      <td>LSU</td>\n",
       "      <td>NaN</td>\n",
       "      <td>LA</td>\n",
       "      <td>LA</td>\n",
       "    </tr>\n",
       "    <tr>\n",
       "      <th>4</th>\n",
       "      <td>Jahri Evans</td>\n",
       "      <td>2011</td>\n",
       "      <td>NOR</td>\n",
       "      <td>19.0</td>\n",
       "      <td>99</td>\n",
       "      <td>Bloomsburg</td>\n",
       "      <td>PA</td>\n",
       "      <td>NaN</td>\n",
       "      <td>NaN</td>\n",
       "    </tr>\n",
       "  </tbody>\n",
       "</table>\n",
       "</div>"
      ],
      "text/plain": [
       "             Player  Year   Tm    AV  percentile_av     college state_x  \\\n",
       "0     Aaron Rodgers  2011  GNB  23.0            100  California      CA   \n",
       "1         Tom Brady  2011  NWE  21.0             99    Michigan      MI   \n",
       "2        Drew Brees  2011  NOR  20.0             99      Purdue      IN   \n",
       "3  Patrick Peterson  2011  ARI  20.0             99         LSU     NaN   \n",
       "4       Jahri Evans  2011  NOR  19.0             99  Bloomsburg      PA   \n",
       "\n",
       "  state_y state  \n",
       "0     NaN   NaN  \n",
       "1     NaN   NaN  \n",
       "2     NaN   NaN  \n",
       "3      LA    LA  \n",
       "4     NaN   NaN  "
      ]
     },
     "execution_count": 105,
     "metadata": {},
     "output_type": "execute_result"
    }
   ],
   "source": [
    "merged = merged.merge(list_df, how = 'left', on = 'college')\n",
    "merged.head()"
   ]
  },
  {
   "cell_type": "code",
   "execution_count": 106,
   "metadata": {},
   "outputs": [],
   "source": [
    "for i in range(len(merged)):\n",
    "    if pd.isnull(merged.iat[i, 6]):\n",
    "        merged.iat[i, 6] = merged.iat[i, 7]"
   ]
  },
  {
   "cell_type": "code",
   "execution_count": 114,
   "metadata": {},
   "outputs": [],
   "source": [
    "merged.drop(columns = ['state_y', 'state', 'college'], inplace = True)"
   ]
  },
  {
   "cell_type": "code",
   "execution_count": 112,
   "metadata": {},
   "outputs": [],
   "source": [
    "merged.rename(columns = {'state_x':'state'}, inplace = True)"
   ]
  },
  {
   "cell_type": "code",
   "execution_count": 116,
   "metadata": {},
   "outputs": [],
   "source": [
    "merged.to_csv('data/nfl_player_av_state.csv')"
   ]
  },
  {
   "cell_type": "code",
   "execution_count": 136,
   "metadata": {},
   "outputs": [
    {
     "data": {
      "text/html": [
       "<div>\n",
       "<style scoped>\n",
       "    .dataframe tbody tr th:only-of-type {\n",
       "        vertical-align: middle;\n",
       "    }\n",
       "\n",
       "    .dataframe tbody tr th {\n",
       "        vertical-align: top;\n",
       "    }\n",
       "\n",
       "    .dataframe thead th {\n",
       "        text-align: right;\n",
       "    }\n",
       "</style>\n",
       "<table border=\"1\" class=\"dataframe\">\n",
       "  <thead>\n",
       "    <tr style=\"text-align: right;\">\n",
       "      <th></th>\n",
       "      <th>Player</th>\n",
       "      <th>Season</th>\n",
       "      <th>PER</th>\n",
       "      <th>percentile_per</th>\n",
       "    </tr>\n",
       "  </thead>\n",
       "  <tbody>\n",
       "    <tr>\n",
       "      <th>0</th>\n",
       "      <td>Orien Greene</td>\n",
       "      <td>2010-11</td>\n",
       "      <td>33.0</td>\n",
       "      <td>99</td>\n",
       "    </tr>\n",
       "    <tr>\n",
       "      <th>1</th>\n",
       "      <td>LeBron James</td>\n",
       "      <td>2010-11</td>\n",
       "      <td>27.3</td>\n",
       "      <td>98</td>\n",
       "    </tr>\n",
       "    <tr>\n",
       "      <th>2</th>\n",
       "      <td>Dwight Howard</td>\n",
       "      <td>2010-11</td>\n",
       "      <td>26.1</td>\n",
       "      <td>98</td>\n",
       "    </tr>\n",
       "    <tr>\n",
       "      <th>3</th>\n",
       "      <td>Dwyane Wade</td>\n",
       "      <td>2010-11</td>\n",
       "      <td>25.6</td>\n",
       "      <td>98</td>\n",
       "    </tr>\n",
       "    <tr>\n",
       "      <th>4</th>\n",
       "      <td>Kevin Love</td>\n",
       "      <td>2010-11</td>\n",
       "      <td>24.3</td>\n",
       "      <td>97</td>\n",
       "    </tr>\n",
       "  </tbody>\n",
       "</table>\n",
       "</div>"
      ],
      "text/plain": [
       "          Player   Season   PER  percentile_per\n",
       "0   Orien Greene  2010-11  33.0              99\n",
       "1   LeBron James  2010-11  27.3              98\n",
       "2  Dwight Howard  2010-11  26.1              98\n",
       "3    Dwyane Wade  2010-11  25.6              98\n",
       "4     Kevin Love  2010-11  24.3              97"
      ]
     },
     "execution_count": 136,
     "metadata": {},
     "output_type": "execute_result"
    }
   ],
   "source": [
    "nba_stats = pd.read_csv('data/nba_per_ratings_all.csv').drop(columns = ['Unnamed: 0', 'Unnamed: 0.1'])[['Player', 'Season', 'PER', 'percentile_per']]\n",
    "for i in range(len(nba_stats)):\n",
    "    nba_stats.iat[i, 0] = nba_stats.iat[i, 0].split('\\\\')[0]\n",
    "nba_stats.head()"
   ]
  },
  {
   "cell_type": "code",
   "execution_count": 144,
   "metadata": {},
   "outputs": [],
   "source": [
    "nba_schools = pd.read_csv('unclean_data/university_info/nba_player_unis.csv').drop(columns = 'Unnamed: 0').rename(columns = {'index': 'school'})"
   ]
  },
  {
   "cell_type": "code",
   "execution_count": 192,
   "metadata": {},
   "outputs": [
    {
     "data": {
      "text/html": [
       "<div>\n",
       "<style scoped>\n",
       "    .dataframe tbody tr th:only-of-type {\n",
       "        vertical-align: middle;\n",
       "    }\n",
       "\n",
       "    .dataframe tbody tr th {\n",
       "        vertical-align: top;\n",
       "    }\n",
       "\n",
       "    .dataframe thead th {\n",
       "        text-align: right;\n",
       "    }\n",
       "</style>\n",
       "<table border=\"1\" class=\"dataframe\">\n",
       "  <thead>\n",
       "    <tr style=\"text-align: right;\">\n",
       "      <th></th>\n",
       "      <th>school</th>\n",
       "      <th>Player</th>\n",
       "      <th>state</th>\n",
       "    </tr>\n",
       "  </thead>\n",
       "  <tbody>\n",
       "    <tr>\n",
       "      <th>0</th>\n",
       "      <td>Acadia University</td>\n",
       "      <td>Brian Heaney</td>\n",
       "      <td>NaN</td>\n",
       "    </tr>\n",
       "    <tr>\n",
       "      <th>1</th>\n",
       "      <td>Alabama A&amp;M University</td>\n",
       "      <td>Mickell Gladness</td>\n",
       "      <td>AL</td>\n",
       "    </tr>\n",
       "    <tr>\n",
       "      <th>2</th>\n",
       "      <td>Alabama State University</td>\n",
       "      <td>Kevin Loder</td>\n",
       "      <td>AL</td>\n",
       "    </tr>\n",
       "    <tr>\n",
       "      <th>3</th>\n",
       "      <td>Albany State University</td>\n",
       "      <td>Caldwell Jones</td>\n",
       "      <td>GA</td>\n",
       "    </tr>\n",
       "    <tr>\n",
       "      <th>4</th>\n",
       "      <td>Albany State University</td>\n",
       "      <td>Major Jones</td>\n",
       "      <td>GA</td>\n",
       "    </tr>\n",
       "  </tbody>\n",
       "</table>\n",
       "</div>"
      ],
      "text/plain": [
       "                     school            Player state\n",
       "0         Acadia University      Brian Heaney   NaN\n",
       "1    Alabama A&M University  Mickell Gladness    AL\n",
       "2  Alabama State University       Kevin Loder    AL\n",
       "3   Albany State University    Caldwell Jones    GA\n",
       "4   Albany State University       Major Jones    GA"
      ]
     },
     "execution_count": 192,
     "metadata": {},
     "output_type": "execute_result"
    }
   ],
   "source": [
    "nba_schools.head()"
   ]
  },
  {
   "cell_type": "code",
   "execution_count": 169,
   "metadata": {},
   "outputs": [],
   "source": [
    "x = pd.DataFrame(columns = {'school', 'state'}, index = [i for i in range(105)])\n",
    "x['school'] = nba_schools[nba_schools['state'].isnull()].school.unique()"
   ]
  },
  {
   "cell_type": "code",
   "execution_count": 171,
   "metadata": {},
   "outputs": [],
   "source": [
    "x.to_csv('nba_unknown_schools.csv')"
   ]
  },
  {
   "cell_type": "code",
   "execution_count": 176,
   "metadata": {},
   "outputs": [],
   "source": [
    "new_schools = pd.read_csv('nba_unknown_schools.csv').drop(columns = ['Unnamed: 0'])"
   ]
  },
  {
   "cell_type": "code",
   "execution_count": 187,
   "metadata": {},
   "outputs": [
    {
     "data": {
      "text/html": [
       "<div>\n",
       "<style scoped>\n",
       "    .dataframe tbody tr th:only-of-type {\n",
       "        vertical-align: middle;\n",
       "    }\n",
       "\n",
       "    .dataframe tbody tr th {\n",
       "        vertical-align: top;\n",
       "    }\n",
       "\n",
       "    .dataframe thead th {\n",
       "        text-align: right;\n",
       "    }\n",
       "</style>\n",
       "<table border=\"1\" class=\"dataframe\">\n",
       "  <thead>\n",
       "    <tr style=\"text-align: right;\">\n",
       "      <th></th>\n",
       "      <th>Player</th>\n",
       "      <th>state</th>\n",
       "    </tr>\n",
       "  </thead>\n",
       "  <tbody>\n",
       "    <tr>\n",
       "      <th>0</th>\n",
       "      <td>Brian Heaney</td>\n",
       "      <td>PA</td>\n",
       "    </tr>\n",
       "    <tr>\n",
       "      <th>1</th>\n",
       "      <td>Mickell Gladness</td>\n",
       "      <td>AL</td>\n",
       "    </tr>\n",
       "    <tr>\n",
       "      <th>2</th>\n",
       "      <td>Kevin Loder</td>\n",
       "      <td>AL</td>\n",
       "    </tr>\n",
       "    <tr>\n",
       "      <th>3</th>\n",
       "      <td>Caldwell Jones</td>\n",
       "      <td>GA</td>\n",
       "    </tr>\n",
       "    <tr>\n",
       "      <th>4</th>\n",
       "      <td>Major Jones</td>\n",
       "      <td>GA</td>\n",
       "    </tr>\n",
       "  </tbody>\n",
       "</table>\n",
       "</div>"
      ],
      "text/plain": [
       "             Player state\n",
       "0      Brian Heaney    PA\n",
       "1  Mickell Gladness    AL\n",
       "2       Kevin Loder    AL\n",
       "3    Caldwell Jones    GA\n",
       "4       Major Jones    GA"
      ]
     },
     "execution_count": 187,
     "metadata": {},
     "output_type": "execute_result"
    }
   ],
   "source": [
    "merged = nba_schools.merge(new_schools, how = 'left', on = 'school')\n",
    "for i in range(len(merged)):\n",
    "    if pd.isnull(merged.iat[i, 2]):\n",
    "        merged.iat[i, 2] = merged.iat[i, 3]\n",
    "merged.drop(columns = ['state_y', 'school'], inplace = True)\n",
    "merged.rename(columns = {'state_x': 'state'}, inplace = True)\n",
    "merged.head()"
   ]
  },
  {
   "cell_type": "code",
   "execution_count": null,
   "metadata": {},
   "outputs": [],
   "source": []
  },
  {
   "cell_type": "code",
   "execution_count": 197,
   "metadata": {},
   "outputs": [],
   "source": [
    "merged = nba_stats.merge(merged, how = 'left', on = 'Player').dropna(how = 'any').sort_values(by = 'PER', ascending = False)"
   ]
  },
  {
   "cell_type": "code",
   "execution_count": 202,
   "metadata": {},
   "outputs": [],
   "source": [
    "merged.drop(1398, inplace = True)"
   ]
  },
  {
   "cell_type": "code",
   "execution_count": 208,
   "metadata": {},
   "outputs": [],
   "source": [
    "merged.to_csv('data/nba_player_per_state.csv', index = False)"
   ]
  },
  {
   "cell_type": "code",
   "execution_count": 239,
   "metadata": {},
   "outputs": [],
   "source": [
    "mlb_stats = pd.read_csv('data/mlb_war_ratings_all.csv')[['Player', 'WAR/pos', 'Year', 'Tm', 'percentile_per']]\n",
    "mlb_stats['player_id'] = ''\n",
    "for i in range(len(mlb_stats)):\n",
    "    name, pid = mlb_stats.iat[i, 0].split('\\\\')\n",
    "    mlb_stats.iat[i, 0] = name\n",
    "    mlb_stats.iat[i, 5] = pid"
   ]
  },
  {
   "cell_type": "code",
   "execution_count": 241,
   "metadata": {},
   "outputs": [
    {
     "data": {
      "text/html": [
       "<div>\n",
       "<style scoped>\n",
       "    .dataframe tbody tr th:only-of-type {\n",
       "        vertical-align: middle;\n",
       "    }\n",
       "\n",
       "    .dataframe tbody tr th {\n",
       "        vertical-align: top;\n",
       "    }\n",
       "\n",
       "    .dataframe thead th {\n",
       "        text-align: right;\n",
       "    }\n",
       "</style>\n",
       "<table border=\"1\" class=\"dataframe\">\n",
       "  <thead>\n",
       "    <tr style=\"text-align: right;\">\n",
       "      <th></th>\n",
       "      <th>Player</th>\n",
       "      <th>WAR/pos</th>\n",
       "      <th>Year</th>\n",
       "      <th>Tm</th>\n",
       "      <th>percentile_per</th>\n",
       "      <th>player_id</th>\n",
       "    </tr>\n",
       "  </thead>\n",
       "  <tbody>\n",
       "    <tr>\n",
       "      <th>0</th>\n",
       "      <td>Jose Bautista</td>\n",
       "      <td>99.882629</td>\n",
       "      <td>2011</td>\n",
       "      <td>TOR</td>\n",
       "      <td>100</td>\n",
       "      <td>bautijo02</td>\n",
       "    </tr>\n",
       "    <tr>\n",
       "      <th>1</th>\n",
       "      <td>Jacoby Ellsbury</td>\n",
       "      <td>99.877526</td>\n",
       "      <td>2011</td>\n",
       "      <td>BOS</td>\n",
       "      <td>99</td>\n",
       "      <td>ellsbja01</td>\n",
       "    </tr>\n",
       "    <tr>\n",
       "      <th>2</th>\n",
       "      <td>Matt Kemp</td>\n",
       "      <td>99.831598</td>\n",
       "      <td>2011</td>\n",
       "      <td>LAD</td>\n",
       "      <td>99</td>\n",
       "      <td>kempma01</td>\n",
       "    </tr>\n",
       "    <tr>\n",
       "      <th>3</th>\n",
       "      <td>Dustin Pedroia</td>\n",
       "      <td>99.826495</td>\n",
       "      <td>2011</td>\n",
       "      <td>BOS</td>\n",
       "      <td>99</td>\n",
       "      <td>pedrodu01</td>\n",
       "    </tr>\n",
       "    <tr>\n",
       "      <th>4</th>\n",
       "      <td>Ryan Braun</td>\n",
       "      <td>99.739743</td>\n",
       "      <td>2011</td>\n",
       "      <td>MIL</td>\n",
       "      <td>99</td>\n",
       "      <td>braunry02</td>\n",
       "    </tr>\n",
       "  </tbody>\n",
       "</table>\n",
       "</div>"
      ],
      "text/plain": [
       "            Player    WAR/pos  Year   Tm  percentile_per  player_id\n",
       "0    Jose Bautista  99.882629  2011  TOR             100  bautijo02\n",
       "1  Jacoby Ellsbury  99.877526  2011  BOS              99  ellsbja01\n",
       "2        Matt Kemp  99.831598  2011  LAD              99   kempma01\n",
       "3   Dustin Pedroia  99.826495  2011  BOS              99  pedrodu01\n",
       "4       Ryan Braun  99.739743  2011  MIL              99  braunry02"
      ]
     },
     "execution_count": 241,
     "metadata": {},
     "output_type": "execute_result"
    }
   ],
   "source": [
    "mlb_stats.head()"
   ]
  },
  {
   "cell_type": "code",
   "execution_count": 270,
   "metadata": {},
   "outputs": [],
   "source": [
    "mlb_schools = pd.read_csv('unclean_data/university_info/mlb_player_unis.csv')[['state', 'playerID']]"
   ]
  },
  {
   "cell_type": "code",
   "execution_count": 272,
   "metadata": {},
   "outputs": [
    {
     "data": {
      "text/html": [
       "<div>\n",
       "<style scoped>\n",
       "    .dataframe tbody tr th:only-of-type {\n",
       "        vertical-align: middle;\n",
       "    }\n",
       "\n",
       "    .dataframe tbody tr th {\n",
       "        vertical-align: top;\n",
       "    }\n",
       "\n",
       "    .dataframe thead th {\n",
       "        text-align: right;\n",
       "    }\n",
       "</style>\n",
       "<table border=\"1\" class=\"dataframe\">\n",
       "  <thead>\n",
       "    <tr style=\"text-align: right;\">\n",
       "      <th></th>\n",
       "      <th>state</th>\n",
       "      <th>playerID</th>\n",
       "    </tr>\n",
       "  </thead>\n",
       "  <tbody>\n",
       "    <tr>\n",
       "      <th>0</th>\n",
       "      <td>PA</td>\n",
       "      <td>aardsda01</td>\n",
       "    </tr>\n",
       "    <tr>\n",
       "      <th>1</th>\n",
       "      <td>TX</td>\n",
       "      <td>aardsda01</td>\n",
       "    </tr>\n",
       "    <tr>\n",
       "      <th>2</th>\n",
       "      <td>GA</td>\n",
       "      <td>abadan01</td>\n",
       "    </tr>\n",
       "    <tr>\n",
       "      <th>3</th>\n",
       "      <td>VT</td>\n",
       "      <td>abbeybe01</td>\n",
       "    </tr>\n",
       "    <tr>\n",
       "      <th>4</th>\n",
       "      <td>KY</td>\n",
       "      <td>abbotje01</td>\n",
       "    </tr>\n",
       "  </tbody>\n",
       "</table>\n",
       "</div>"
      ],
      "text/plain": [
       "  state   playerID\n",
       "0    PA  aardsda01\n",
       "1    TX  aardsda01\n",
       "2    GA   abadan01\n",
       "3    VT  abbeybe01\n",
       "4    KY  abbotje01"
      ]
     },
     "execution_count": 272,
     "metadata": {},
     "output_type": "execute_result"
    }
   ],
   "source": [
    "mlb_schools.head()"
   ]
  },
  {
   "cell_type": "code",
   "execution_count": 273,
   "metadata": {},
   "outputs": [],
   "source": [
    "mlb_schools.rename(columns = {'playerID':'player_id'}, inplace = True)"
   ]
  },
  {
   "cell_type": "code",
   "execution_count": 274,
   "metadata": {},
   "outputs": [
    {
     "data": {
      "text/html": [
       "<div>\n",
       "<style scoped>\n",
       "    .dataframe tbody tr th:only-of-type {\n",
       "        vertical-align: middle;\n",
       "    }\n",
       "\n",
       "    .dataframe tbody tr th {\n",
       "        vertical-align: top;\n",
       "    }\n",
       "\n",
       "    .dataframe thead th {\n",
       "        text-align: right;\n",
       "    }\n",
       "</style>\n",
       "<table border=\"1\" class=\"dataframe\">\n",
       "  <thead>\n",
       "    <tr style=\"text-align: right;\">\n",
       "      <th></th>\n",
       "      <th>state</th>\n",
       "      <th>player_id</th>\n",
       "    </tr>\n",
       "  </thead>\n",
       "  <tbody>\n",
       "    <tr>\n",
       "      <th>5171</th>\n",
       "      <td>AZ</td>\n",
       "      <td>pedrodu01</td>\n",
       "    </tr>\n",
       "  </tbody>\n",
       "</table>\n",
       "</div>"
      ],
      "text/plain": [
       "     state  player_id\n",
       "5171    AZ  pedrodu01"
      ]
     },
     "execution_count": 274,
     "metadata": {},
     "output_type": "execute_result"
    }
   ],
   "source": [
    "mlb_schools.loc[mlb_schools['player_id'] == 'pedrodu01']"
   ]
  },
  {
   "cell_type": "code",
   "execution_count": 260,
   "metadata": {},
   "outputs": [],
   "source": [
    "for i in range(len(mlb_schools)):\n",
    "    mlb_schools.iat[i, 2] = mlb_schools.iat[i, 2].strip()\n",
    "for i in range(len(mlb_stats)):\n",
    "    mlb_stats.iat[i, 5] = mlb_stats.iat[i, 5].strip()"
   ]
  },
  {
   "cell_type": "code",
   "execution_count": 275,
   "metadata": {},
   "outputs": [],
   "source": [
    "merged = mlb_stats.merge(mlb_schools, how = 'left')"
   ]
  },
  {
   "cell_type": "code",
   "execution_count": 278,
   "metadata": {},
   "outputs": [],
   "source": [
    "merged.dropna(how = 'any', inplace = True)"
   ]
  },
  {
   "cell_type": "code",
   "execution_count": 279,
   "metadata": {},
   "outputs": [],
   "source": [
    "merged.to_csv('data/mlb_war_player_state.csv')"
   ]
  },
  {
   "cell_type": "code",
   "execution_count": null,
   "metadata": {},
   "outputs": [],
   "source": []
  }
 ],
 "metadata": {
  "kernelspec": {
   "display_name": "Python 3",
   "language": "python",
   "name": "python3"
  },
  "language_info": {
   "codemirror_mode": {
    "name": "ipython",
    "version": 3
   },
   "file_extension": ".py",
   "mimetype": "text/x-python",
   "name": "python",
   "nbconvert_exporter": "python",
   "pygments_lexer": "ipython3",
   "version": "3.7.1"
  }
 },
 "nbformat": 4,
 "nbformat_minor": 2
}
