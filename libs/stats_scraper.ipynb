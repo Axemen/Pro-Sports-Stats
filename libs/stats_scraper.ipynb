{
 "cells": [
  {
   "cell_type": "code",
   "execution_count": 207,
   "metadata": {},
   "outputs": [],
   "source": [
    "import requests\n",
    "import pandas as pd\n",
    "from splinter import Browser\n",
    "from time import sleep\n",
    "from bs4 import BeautifulSoup\n",
    "from math import ceil"
   ]
  },
  {
   "cell_type": "code",
   "execution_count": 4,
   "metadata": {},
   "outputs": [],
   "source": [
    "bb_df = pd.read_csv('mlb_draft_player_salaries/mlb_draft_player_salaries_2009_2018.csv')"
   ]
  },
  {
   "cell_type": "code",
   "execution_count": 5,
   "metadata": {},
   "outputs": [
    {
     "data": {
      "text/html": [
       "<div>\n",
       "<style scoped>\n",
       "    .dataframe tbody tr th:only-of-type {\n",
       "        vertical-align: middle;\n",
       "    }\n",
       "\n",
       "    .dataframe tbody tr th {\n",
       "        vertical-align: top;\n",
       "    }\n",
       "\n",
       "    .dataframe thead th {\n",
       "        text-align: right;\n",
       "    }\n",
       "</style>\n",
       "<table border=\"1\" class=\"dataframe\">\n",
       "  <thead>\n",
       "    <tr style=\"text-align: right;\">\n",
       "      <th></th>\n",
       "      <th>Year</th>\n",
       "      <th>RD</th>\n",
       "      <th>Pick</th>\n",
       "      <th>Team</th>\n",
       "      <th>Pos</th>\n",
       "      <th>Player</th>\n",
       "      <th>School</th>\n",
       "      <th>Type</th>\n",
       "      <th>ST</th>\n",
       "      <th>Signed</th>\n",
       "      <th>Bonus</th>\n",
       "    </tr>\n",
       "  </thead>\n",
       "  <tbody>\n",
       "    <tr>\n",
       "      <th>0</th>\n",
       "      <td>2009.0</td>\n",
       "      <td>1</td>\n",
       "      <td>1.0</td>\n",
       "      <td>Nationals</td>\n",
       "      <td>RHP</td>\n",
       "      <td>Stephen Strasburg</td>\n",
       "      <td>San Diego State</td>\n",
       "      <td>4YR</td>\n",
       "      <td>CA</td>\n",
       "      <td>Y</td>\n",
       "      <td>$7,500,000</td>\n",
       "    </tr>\n",
       "    <tr>\n",
       "      <th>1</th>\n",
       "      <td>2009.0</td>\n",
       "      <td>1</td>\n",
       "      <td>2.0</td>\n",
       "      <td>Mariners</td>\n",
       "      <td>OF</td>\n",
       "      <td>Dustin Ackley</td>\n",
       "      <td>North Carolina</td>\n",
       "      <td>4YR</td>\n",
       "      <td>NC</td>\n",
       "      <td>Y</td>\n",
       "      <td>$6,000,000</td>\n",
       "    </tr>\n",
       "    <tr>\n",
       "      <th>2</th>\n",
       "      <td>2009.0</td>\n",
       "      <td>1</td>\n",
       "      <td>3.0</td>\n",
       "      <td>Padres</td>\n",
       "      <td>OF</td>\n",
       "      <td>Donavan Tate</td>\n",
       "      <td>Cartersville (Ga.) HS</td>\n",
       "      <td>HS</td>\n",
       "      <td>GA</td>\n",
       "      <td>Y</td>\n",
       "      <td>$6,250,000</td>\n",
       "    </tr>\n",
       "    <tr>\n",
       "      <th>3</th>\n",
       "      <td>2009.0</td>\n",
       "      <td>1</td>\n",
       "      <td>4.0</td>\n",
       "      <td>Pirates</td>\n",
       "      <td>C</td>\n",
       "      <td>Tony Sanchez</td>\n",
       "      <td>Boston College</td>\n",
       "      <td>4YR</td>\n",
       "      <td>MA</td>\n",
       "      <td>Y</td>\n",
       "      <td>$2,500,000</td>\n",
       "    </tr>\n",
       "    <tr>\n",
       "      <th>4</th>\n",
       "      <td>2009.0</td>\n",
       "      <td>1</td>\n",
       "      <td>5.0</td>\n",
       "      <td>Orioles</td>\n",
       "      <td>RHP</td>\n",
       "      <td>Matt Hobgood</td>\n",
       "      <td>Norco (Calif.) HS</td>\n",
       "      <td>HS</td>\n",
       "      <td>CA</td>\n",
       "      <td>Y</td>\n",
       "      <td>$2,422,000</td>\n",
       "    </tr>\n",
       "  </tbody>\n",
       "</table>\n",
       "</div>"
      ],
      "text/plain": [
       "     Year RD  Pick       Team  Pos             Player                 School  \\\n",
       "0  2009.0  1   1.0  Nationals  RHP  Stephen Strasburg        San Diego State   \n",
       "1  2009.0  1   2.0   Mariners   OF      Dustin Ackley         North Carolina   \n",
       "2  2009.0  1   3.0     Padres   OF       Donavan Tate  Cartersville (Ga.) HS   \n",
       "3  2009.0  1   4.0    Pirates    C       Tony Sanchez         Boston College   \n",
       "4  2009.0  1   5.0    Orioles  RHP       Matt Hobgood      Norco (Calif.) HS   \n",
       "\n",
       "  Type  ST Signed       Bonus  \n",
       "0  4YR  CA      Y  $7,500,000  \n",
       "1  4YR  NC      Y  $6,000,000  \n",
       "2   HS  GA      Y  $6,250,000  \n",
       "3  4YR  MA      Y  $2,500,000  \n",
       "4   HS  CA      Y  $2,422,000  "
      ]
     },
     "execution_count": 5,
     "metadata": {},
     "output_type": "execute_result"
    }
   ],
   "source": [
    "bb_df.head()"
   ]
  },
  {
   "cell_type": "code",
   "execution_count": 61,
   "metadata": {},
   "outputs": [],
   "source": [
    "player_stats = soup.find_all('div', class_ = 'stats_pullout')"
   ]
  },
  {
   "cell_type": "code",
   "execution_count": 106,
   "metadata": {},
   "outputs": [],
   "source": [
    "#takes a list_iterator object and pull the children from it returning a list\n",
    "def children_to_list(list):\n",
    "    result = []\n",
    "    for l in list:\n",
    "        result.append(l)\n",
    "        \n",
    "    return result # RETURNS LIST"
   ]
  },
  {
   "cell_type": "code",
   "execution_count": 102,
   "metadata": {},
   "outputs": [
    {
     "data": {
      "text/plain": [
       "[<p><strong>2019</strong></p>, <p><strong>Career</strong></p>]"
      ]
     },
     "execution_count": 102,
     "metadata": {},
     "output_type": "execute_result"
    }
   ],
   "source": [
    "get_children(player_stats[0].children)[1].find_all('p')"
   ]
  },
  {
   "cell_type": "code",
   "execution_count": 119,
   "metadata": {},
   "outputs": [],
   "source": [
    "child_list = children_to_list(soup.find_all('div', class_ = 'stats_pullout')[0].children)"
   ]
  },
  {
   "cell_type": "code",
   "execution_count": 120,
   "metadata": {},
   "outputs": [
    {
     "name": "stdout",
     "output_type": "stream",
     "text": [
      "done\n"
     ]
    }
   ],
   "source": [
    "try:\n",
    "    for i in range(len(child_list)):\n",
    "        if child_list[i] == '\\n':\n",
    "            child_list.pop(i)\n",
    "except:\n",
    "    print('done')"
   ]
  },
  {
   "cell_type": "code",
   "execution_count": 133,
   "metadata": {},
   "outputs": [],
   "source": [
    "stats = []\n",
    "\n",
    "if len(child_list[0].find_all('p')) == 2:\n",
    "    for child in child_list:\n",
    "        p_list = child.find_all('p')\n",
    "        for i in range(len(p_list)):\n",
    "            if (i % 2 == 1):\n",
    "                stats.append(p_list[i].text)\n",
    "elif len(child_list[0].find_all('p')) == 1:\n",
    "    for child in child_list:\n",
    "        p_list = child.find_all('p')\n",
    "        for p in p_list:\n",
    "            stats.append[p.text]\n",
    "else:\n",
    "    print('no stats')"
   ]
  },
  {
   "cell_type": "code",
   "execution_count": 131,
   "metadata": {},
   "outputs": [
    {
     "data": {
      "text/plain": [
       "['Career',\n",
       " '30.3',\n",
       " '101',\n",
       " '55',\n",
       " '3.16',\n",
       " '220',\n",
       " '220',\n",
       " '0',\n",
       " '1320.2',\n",
       " '1554',\n",
       " '1.088']"
      ]
     },
     "execution_count": 131,
     "metadata": {},
     "output_type": "execute_result"
    }
   ],
   "source": [
    "stats"
   ]
  },
  {
   "cell_type": "code",
   "execution_count": 134,
   "metadata": {},
   "outputs": [],
   "source": [
    "browser = Browser('chrome')    "
   ]
  },
  {
   "cell_type": "code",
   "execution_count": 181,
   "metadata": {},
   "outputs": [
    {
     "data": {
      "text/plain": [
       "['Dustin', 'Ackley']"
      ]
     },
     "execution_count": 181,
     "metadata": {},
     "output_type": "execute_result"
    }
   ],
   "source": [
    "test = player_list[1].split(' ')\n",
    "test"
   ]
  },
  {
   "cell_type": "code",
   "execution_count": 182,
   "metadata": {},
   "outputs": [
    {
     "data": {
      "text/plain": [
       "'AckleDu'"
      ]
     },
     "execution_count": 182,
     "metadata": {},
     "output_type": "execute_result"
    }
   ],
   "source": [
    "test[1][0:5] + test[0][0:2]"
   ]
  },
  {
   "cell_type": "code",
   "execution_count": 183,
   "metadata": {},
   "outputs": [
    {
     "data": {
      "text/plain": [
       "'https://www.baseball-reference.com/players/a/ackledu01.shtml'"
      ]
     },
     "execution_count": 183,
     "metadata": {},
     "output_type": "execute_result"
    }
   ],
   "source": [
    "#https://www.baseball-reference.com/players/s/solissa00.shtml\n",
    "name = test[1][0:5] + test[0][0:2]\n",
    "number = 1\n",
    "url = f'https://www.baseball-reference.com/players/{name.lower()[0]}/{name.lower()}0{number}.shtml'\n",
    "url"
   ]
  },
  {
   "cell_type": "code",
   "execution_count": 167,
   "metadata": {},
   "outputs": [],
   "source": [
    "r = requests.get('https://www.baseball-reference.com/players/a/ackledu01.shtml')"
   ]
  },
  {
   "cell_type": "code",
   "execution_count": 168,
   "metadata": {},
   "outputs": [
    {
     "data": {
      "text/plain": [
       "[<h1 itemprop=\"name\">Dustin Ackley</h1>]"
      ]
     },
     "execution_count": 168,
     "metadata": {},
     "output_type": "execute_result"
    }
   ],
   "source": [
    "soup =  BeautifulSoup(r.text, 'html.parser')\n",
    "soup.find_all('h1')"
   ]
  },
  {
   "cell_type": "code",
   "execution_count": 175,
   "metadata": {},
   "outputs": [],
   "source": [
    "#RETURNS LIST\n",
    "def scrape_player_data(player):\n",
    "    name = test[1][0:5] + test[0][0:2]\n",
    "    number = 0\n",
    "    url = f'https://www.baseball-reference.com/players/{name.lower()[0]}/{name.lower()}0{number}.shtml'\n",
    "    \n",
    "    r = requests.get(url)\n",
    "    soup = BeautifulSoup(r.text, 'html.parser')\n",
    "    if '404' in soup.find_all('h1'):\n",
    "        number += 1\n",
    "        url = f'https://www.baseball-reference.com/players/{name.lower()[0]}/{name.lower()}0{number}.shtml'\n",
    "        r = requests.get(url)\n",
    "    \n",
    "    stats = []   \n",
    "    \n",
    "    child_list = children_to_list(soup.find_all('div', class_ = 'stats_pullout')[0].children)\n",
    "    \n",
    "    if len(child_list[0].find_all('p')) == 2:\n",
    "        for child in child_list:\n",
    "            p_list = child.find_all('p')\n",
    "            for i in range(len(p_list)):\n",
    "                if (i % 2 == 1):\n",
    "                    stats.append(p_list[i].text)\n",
    "    elif len(child_list[0].find_all('p')) == 1:\n",
    "        for child in child_list:\n",
    "            p_list = child.find_all('p')\n",
    "            for p in p_list:\n",
    "                stats.append[p.text]\n",
    "    return stats"
   ]
  },
  {
   "cell_type": "code",
   "execution_count": 170,
   "metadata": {},
   "outputs": [],
   "source": [
    "df = pd.DataFrame(columns = ['C/S','war', 'ab', 'h', 'hr', 'ba', 'r', 'rbi', 'sb', 'obp', 'slg', 'ops', 'ops+'], index = [i for i in range(len(player_list))])"
   ]
  },
  {
   "cell_type": "code",
   "execution_count": 176,
   "metadata": {},
   "outputs": [
    {
     "data": {
      "text/plain": [
       "['Career',\n",
       " '30.3',\n",
       " '101',\n",
       " '55',\n",
       " '3.16',\n",
       " '220',\n",
       " '220',\n",
       " '0',\n",
       " '1320.2',\n",
       " '1554',\n",
       " '1.088']"
      ]
     },
     "execution_count": 176,
     "metadata": {},
     "output_type": "execute_result"
    }
   ],
   "source": [
    "scrape_player_data(player_list[0])"
   ]
  },
  {
   "cell_type": "code",
   "execution_count": 184,
   "metadata": {},
   "outputs": [],
   "source": [
    "child_list = children_to_list(soup.find_all('div', class_ = 'stats_pullout')[0].children)"
   ]
  },
  {
   "cell_type": "code",
   "execution_count": 186,
   "metadata": {},
   "outputs": [
    {
     "name": "stdout",
     "output_type": "stream",
     "text": [
      "done\n"
     ]
    }
   ],
   "source": [
    "try:\n",
    "    for i in range(len(child_list)):\n",
    "        if child_list[i] == '\\n':\n",
    "            child_list.pop(i)\n",
    "except:\n",
    "    print('done')"
   ]
  },
  {
   "cell_type": "code",
   "execution_count": 208,
   "metadata": {},
   "outputs": [
    {
     "data": {
      "text/plain": [
       "2"
      ]
     },
     "execution_count": 208,
     "metadata": {},
     "output_type": "execute_result"
    }
   ],
   "source": [
    "x = 3/2\n",
    "ceil(x)"
   ]
  },
  {
   "cell_type": "code",
   "execution_count": 197,
   "metadata": {},
   "outputs": [
    {
     "data": {
      "text/plain": [
       "5"
      ]
     },
     "execution_count": 197,
     "metadata": {},
     "output_type": "execute_result"
    }
   ],
   "source": [
    "len(child_list[1].find_all('p'))"
   ]
  },
  {
   "cell_type": "code",
   "execution_count": 210,
   "metadata": {},
   "outputs": [],
   "source": [
    "stats = {}\n",
    "\n",
    "if len(child_list[0].find_all('p')) == 2:\n",
    "    \n",
    "        for child in child_list:\n",
    "            \n",
    "            p_list = child.find_all('p')\n",
    "            h_list = child.find_all('h4')\n",
    "                \n",
    "            for i in range(len(p_list)):\n",
    "                if (i % 2 == 1):\n",
    "                    stats[h_list[ceil(i/2)].text] = p_list[i].text\n",
    "                    \n",
    "elif len(child_list[0].find_all('p')) == 1:\n",
    "    for child in child_list:\n",
    "        p_list = child.find_all('p')\n",
    "        h_list = child.find_all('h4')\n",
    "        for i in range(len(p_list)):\n",
    "            stats[h_list[i]] = p_list[i].text"
   ]
  },
  {
   "cell_type": "code",
   "execution_count": 214,
   "metadata": {},
   "outputs": [
    {
     "data": {
      "text/plain": [
       "<function dict.keys>"
      ]
     },
     "execution_count": 214,
     "metadata": {},
     "output_type": "execute_result"
    }
   ],
   "source": [
    "stats.keys"
   ]
  },
  {
   "cell_type": "code",
   "execution_count": null,
   "metadata": {},
   "outputs": [],
   "source": []
  }
 ],
 "metadata": {
  "kernelspec": {
   "display_name": "Python 3",
   "language": "python",
   "name": "python3"
  },
  "language_info": {
   "codemirror_mode": {
    "name": "ipython",
    "version": 3
   },
   "file_extension": ".py",
   "mimetype": "text/x-python",
   "name": "python",
   "nbconvert_exporter": "python",
   "pygments_lexer": "ipython3",
   "version": "3.7.0"
  }
 },
 "nbformat": 4,
 "nbformat_minor": 2
}
