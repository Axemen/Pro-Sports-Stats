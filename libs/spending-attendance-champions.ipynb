{
 "cells": [
  {
   "cell_type": "code",
   "execution_count": 6,
   "metadata": {},
   "outputs": [],
   "source": [
    "import pandas as pd\n",
    "import requests\n",
    "from bs4 import BeautifulSoup\n",
    "from splinter import Browser\n",
    "from time import sleep\n",
    "import html5lib\n",
    "import os"
   ]
  },
  {
   "cell_type": "code",
   "execution_count": 6,
   "metadata": {},
   "outputs": [],
   "source": [
    "def scrape_for_spending(years, sports):\n",
    "    filePath = f'{sports}_spending.csv'\n",
    " \n",
    "    # As file at filePath is deleted now, so we should check if file exists or not not before deleting them\n",
    "    if os.path.exists(filePath):\n",
    "        os.remove(filePath)\n",
    "    for year in years:\n",
    "        if sports == 'mlb':\n",
    "            url_for_spending = f'https://www.spotrac.com/{sports}/payroll/{year}/'\n",
    "        else:\n",
    "            url_for_spending =  f'https://www.spotrac.com/{sports}/cap/{year}/'\n",
    "        print(url_for_spending)\n",
    "        table=   pd.read_html(url_for_spending) \n",
    "        df = table[0]\n",
    "        df['year'] = year\n",
    "        with open(f'{sports}_spending.csv', 'a') as f:\n",
    "            df.to_csv(f, header=f.tell()==0, index=False)"
   ]
  },
  {
   "cell_type": "code",
   "execution_count": 7,
   "metadata": {},
   "outputs": [
    {
     "name": "stdout",
     "output_type": "stream",
     "text": [
      "https://www.spotrac.com/mlb/payroll/2011/\n",
      "https://www.spotrac.com/mlb/payroll/2012/\n",
      "https://www.spotrac.com/mlb/payroll/2013/\n",
      "https://www.spotrac.com/mlb/payroll/2014/\n",
      "https://www.spotrac.com/mlb/payroll/2015/\n",
      "https://www.spotrac.com/mlb/payroll/2016/\n",
      "https://www.spotrac.com/mlb/payroll/2017/\n",
      "https://www.spotrac.com/mlb/payroll/2018/\n",
      "https://www.spotrac.com/nba/cap/2011/\n",
      "https://www.spotrac.com/nba/cap/2012/\n",
      "https://www.spotrac.com/nba/cap/2013/\n",
      "https://www.spotrac.com/nba/cap/2014/\n",
      "https://www.spotrac.com/nba/cap/2015/\n",
      "https://www.spotrac.com/nba/cap/2016/\n",
      "https://www.spotrac.com/nba/cap/2017/\n",
      "https://www.spotrac.com/nba/cap/2018/\n",
      "https://www.spotrac.com/nfl/cap/2011/\n",
      "https://www.spotrac.com/nfl/cap/2012/\n",
      "https://www.spotrac.com/nfl/cap/2013/\n",
      "https://www.spotrac.com/nfl/cap/2014/\n",
      "https://www.spotrac.com/nfl/cap/2015/\n",
      "https://www.spotrac.com/nfl/cap/2016/\n",
      "https://www.spotrac.com/nfl/cap/2017/\n",
      "https://www.spotrac.com/nfl/cap/2018/\n"
     ]
    }
   ],
   "source": [
    "years = [i for i in range(2011, 2019)]\n",
    "scrape_for_spending(years, 'mlb')\n",
    "scrape_for_spending(years, 'nba')\n",
    "scrape_for_spending(years, 'nfl')"
   ]
  },
  {
   "cell_type": "code",
   "execution_count": 8,
   "metadata": {},
   "outputs": [],
   "source": [
    "mlb_champions=   pd.read_html('https://en.wikipedia.org/wiki/List_of_World_Series_champions') \n",
    "mlb_champion = mlb_champions[1]\n",
    "mlb_champion.head()\n",
    "mlb_champion.to_csv(f'mlb_champions.csv',index=False)"
   ]
  },
  {
   "cell_type": "code",
   "execution_count": 9,
   "metadata": {},
   "outputs": [],
   "source": [
    "nba_champions=   pd.read_html('https://en.wikipedia.org/wiki/List_of_NBA_champions') \n",
    "nba_champion = nba_champions[5]\n",
    "nba_champion.head()\n",
    "nba_champion.to_csv(f'nba_champions.csv',index=False)"
   ]
  },
  {
   "cell_type": "code",
   "execution_count": 12,
   "metadata": {},
   "outputs": [],
   "source": [
    "nfl_champions=   pd.read_html('https://en.wikipedia.org/wiki/History_of_the_National_Football_League_championship') \n",
    "nfl_champion = nfl_champions[2]\n",
    "nfl_champion.head()\n",
    "nfl_champion.to_csv(f'nfl_champions.csv',index=False)"
   ]
  },
  {
   "cell_type": "code",
   "execution_count": 14,
   "metadata": {},
   "outputs": [],
   "source": [
    "def scrape_for_attendance(years, sports):\n",
    "    filePath = f'{sports}_attendance.csv'\n",
    "    # As file at filePath is deleted now, so we should check if file exists or not not before deleting them\n",
    "    if os.path.exists(filePath):\n",
    "        os.remove(filePath)\n",
    "    for year in years:\n",
    "        url_for_attendance = f'http://www.espn.com/{sports}/attendance/_/year/{year}/order/false'\n",
    "        print(url_for_attendance)\n",
    "        table=   pd.read_html(url_for_attendance) \n",
    "        df = table[0]\n",
    "        df['year'] = year\n",
    "        with open(f'{sports}_attendance.csv', 'a') as f:\n",
    "            df.to_csv(f, header=f.tell()==0, index=False)    "
   ]
  },
  {
   "cell_type": "code",
   "execution_count": 15,
   "metadata": {},
   "outputs": [
    {
     "name": "stdout",
     "output_type": "stream",
     "text": [
      "http://www.espn.com/mlb/attendance/_/year/2011/order/false\n",
      "http://www.espn.com/mlb/attendance/_/year/2012/order/false\n",
      "http://www.espn.com/mlb/attendance/_/year/2013/order/false\n",
      "http://www.espn.com/mlb/attendance/_/year/2014/order/false\n",
      "http://www.espn.com/mlb/attendance/_/year/2015/order/false\n",
      "http://www.espn.com/mlb/attendance/_/year/2016/order/false\n",
      "http://www.espn.com/mlb/attendance/_/year/2017/order/false\n",
      "http://www.espn.com/mlb/attendance/_/year/2018/order/false\n",
      "http://www.espn.com/nba/attendance/_/year/2011/order/false\n",
      "http://www.espn.com/nba/attendance/_/year/2012/order/false\n",
      "http://www.espn.com/nba/attendance/_/year/2013/order/false\n",
      "http://www.espn.com/nba/attendance/_/year/2014/order/false\n",
      "http://www.espn.com/nba/attendance/_/year/2015/order/false\n",
      "http://www.espn.com/nba/attendance/_/year/2016/order/false\n",
      "http://www.espn.com/nba/attendance/_/year/2017/order/false\n",
      "http://www.espn.com/nba/attendance/_/year/2018/order/false\n",
      "http://www.espn.com/nfl/attendance/_/year/2011/order/false\n",
      "http://www.espn.com/nfl/attendance/_/year/2012/order/false\n",
      "http://www.espn.com/nfl/attendance/_/year/2013/order/false\n",
      "http://www.espn.com/nfl/attendance/_/year/2014/order/false\n",
      "http://www.espn.com/nfl/attendance/_/year/2015/order/false\n",
      "http://www.espn.com/nfl/attendance/_/year/2016/order/false\n",
      "http://www.espn.com/nfl/attendance/_/year/2017/order/false\n",
      "http://www.espn.com/nfl/attendance/_/year/2018/order/false\n"
     ]
    }
   ],
   "source": [
    "years = [i for i in range(2011, 2019)]\n",
    "scrape_for_attendance(years, 'mlb')\n",
    "scrape_for_attendance(years, 'nba')\n",
    "scrape_for_attendance(years, 'nfl')"
   ]
  },
  {
   "cell_type": "code",
   "execution_count": 9,
   "metadata": {},
   "outputs": [],
   "source": [
    "def scrape_for_salaries(years, sports):\n",
    "    filePath = f'{sports}_salaries.csv'\n",
    "    # As file at filePath is deleted now, so we should check if file exists or not not before deleting them\n",
    "    if os.path.exists(filePath):\n",
    "        os.remove(filePath)\n",
    "    for year in years:\n",
    "        if sports == 'nfl':\n",
    "            url_for_salaries = f'https://www.spotrac.com/{sports}/rankings/earnings/{year}/'\n",
    "        else:\n",
    "            url_for_salaries = f'https://www.spotrac.com/{sports}/rankings/{year}/'\n",
    "        print(url_for_salaries)\n",
    "        sleep(5)\n",
    "        table=   pd.read_html(url_for_salaries) \n",
    "        df = table[0]\n",
    "        df['year'] = year\n",
    "        with open(f'{sports}_salaries.csv', 'a') as f:\n",
    "            df.to_csv(f, header=f.tell()==0, index=False)   "
   ]
  },
  {
   "cell_type": "code",
   "execution_count": 10,
   "metadata": {},
   "outputs": [
    {
     "name": "stdout",
     "output_type": "stream",
     "text": [
      "https://www.spotrac.com/mlb/rankings/2011/\n",
      "https://www.spotrac.com/mlb/rankings/2012/\n",
      "https://www.spotrac.com/mlb/rankings/2013/\n",
      "https://www.spotrac.com/mlb/rankings/2014/\n",
      "https://www.spotrac.com/mlb/rankings/2015/\n",
      "https://www.spotrac.com/mlb/rankings/2016/\n",
      "https://www.spotrac.com/mlb/rankings/2017/\n",
      "https://www.spotrac.com/mlb/rankings/2018/\n",
      "https://www.spotrac.com/nba/rankings/2011/\n",
      "https://www.spotrac.com/nba/rankings/2012/\n",
      "https://www.spotrac.com/nba/rankings/2013/\n",
      "https://www.spotrac.com/nba/rankings/2014/\n",
      "https://www.spotrac.com/nba/rankings/2015/\n",
      "https://www.spotrac.com/nba/rankings/2016/\n",
      "https://www.spotrac.com/nba/rankings/2017/\n",
      "https://www.spotrac.com/nba/rankings/2018/\n",
      "https://www.spotrac.com/nfl/rankings/earnings/2011/\n",
      "https://www.spotrac.com/nfl/rankings/earnings/2012/\n",
      "https://www.spotrac.com/nfl/rankings/earnings/2013/\n",
      "https://www.spotrac.com/nfl/rankings/earnings/2014/\n",
      "https://www.spotrac.com/nfl/rankings/earnings/2015/\n",
      "https://www.spotrac.com/nfl/rankings/earnings/2016/\n",
      "https://www.spotrac.com/nfl/rankings/earnings/2017/\n",
      "https://www.spotrac.com/nfl/rankings/earnings/2018/\n"
     ]
    }
   ],
   "source": [
    "years = [i for i in range(2011, 2019)]\n",
    "scrape_for_salaries(years, 'mlb')\n",
    "scrape_for_salaries(years, 'nba')\n",
    "scrape_for_salaries(years, 'nfl')"
   ]
  },
  {
   "cell_type": "code",
   "execution_count": null,
   "metadata": {},
   "outputs": [],
   "source": []
  }
 ],
 "metadata": {
  "kernelspec": {
   "display_name": "Python 3",
   "language": "python",
   "name": "python3"
  },
  "language_info": {
   "codemirror_mode": {
    "name": "ipython",
    "version": 3
   },
   "file_extension": ".py",
   "mimetype": "text/x-python",
   "name": "python",
   "nbconvert_exporter": "python",
   "pygments_lexer": "ipython3",
   "version": "3.7.1"
  }
 },
 "nbformat": 4,
 "nbformat_minor": 2
}
