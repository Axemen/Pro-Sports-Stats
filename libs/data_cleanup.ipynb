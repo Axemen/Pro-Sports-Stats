{
 "cells": [
  {
   "cell_type": "code",
   "execution_count": 1,
   "metadata": {},
   "outputs": [],
   "source": [
    "import pandas as pd"
   ]
  },
  {
   "cell_type": "code",
   "execution_count": 14,
   "metadata": {},
   "outputs": [],
   "source": [
    "df_2009 = pd.read_csv('mlb_draft_player_salaries/mlb_draft_player_salaries_2009.csv')\n",
    "df_2010 = pd.read_csv('mlb_draft_player_salaries/mlb_draft_player_salaries_2010.csv')\n",
    "df_2011 = pd.read_csv('mlb_draft_player_salaries/mlb_draft_player_salaries_2011.csv')\n",
    "df_2012 = pd.read_csv('mlb_draft_player_salaries/mlb_draft_player_salaries_2012.csv')\n",
    "df_2013 = pd.read_csv('mlb_draft_player_salaries/mlb_draft_player_salaries_2013.csv')\n",
    "df_2014 = pd.read_csv('mlb_draft_player_salaries/mlb_draft_player_salaries_2014.csv')\n",
    "df_2015 = pd.read_csv('mlb_draft_player_salaries/mlb_draft_player_salaries_2015.csv')\n",
    "df_2016 = pd.read_csv('mlb_draft_player_salaries/mlb_draft_player_salaries_2016.csv')\n",
    "df_2017 = pd.read_csv('mlb_draft_player_salaries/mlb_draft_player_salaries_2017.csv')\n",
    "df_2018 = pd.read_csv('mlb_draft_player_salaries/mlb_draft_player_salaries_2018.csv')\n",
    "\n",
    "df_list = [df_2009, df_2010, df_2011, df_2012, df_2013, df_2014, df_2015, df_2016, df_2017, df_2018]"
   ]
  },
  {
   "cell_type": "code",
   "execution_count": 46,
   "metadata": {},
   "outputs": [],
   "source": [
    "for i in range(len(df_list)):\n",
    "    df_list[i] = df_list[i].dropna(how='all')\n",
    "    df_list[i] = df_list[i].drop_duplicates()"
   ]
  },
  {
   "cell_type": "code",
   "execution_count": 47,
   "metadata": {},
   "outputs": [],
   "source": [
    "df_2009_2018 = pd.concat(df_list, ignore_index=True)"
   ]
  },
  {
   "cell_type": "code",
   "execution_count": 49,
   "metadata": {},
   "outputs": [],
   "source": [
    "df_2009_2018.to_csv('mlb_draft_player_salaries/mlb_draft_player_salaries_2009_2018.csv', index=False)"
   ]
  },
  {
   "cell_type": "code",
   "execution_count": 17,
   "metadata": {},
   "outputs": [],
   "source": [
    "df_war = pd.read_csv('nfl_player_salaries/nfl_player_salaries2011.csv')"
   ]
  },
  {
   "cell_type": "code",
   "execution_count": 18,
   "metadata": {},
   "outputs": [],
   "source": [
    "for i in range(2011, 2019):\n",
    "#     print(i)\n",
    "    df_temp = pd.read_csv(f'nfl_player_salaries/nfl_player_salaries{i}.csv')\n",
    "    df_war = df_war.append(df_temp, ignore_index = True)\n",
    "# df_war = pd.concat(df_list, ignore_index = True)"
   ]
  },
  {
   "cell_type": "code",
   "execution_count": 19,
   "metadata": {},
   "outputs": [
    {
     "data": {
      "text/plain": [
       "9000"
      ]
     },
     "execution_count": 19,
     "metadata": {},
     "output_type": "execute_result"
    }
   ],
   "source": [
    "len(df_war)"
   ]
  },
  {
   "cell_type": "code",
   "execution_count": 20,
   "metadata": {},
   "outputs": [],
   "source": [
    "df_war.to_csv('nfl_player_salaries/nfl_player_salaries_all.csv')"
   ]
  },
  {
   "cell_type": "code",
   "execution_count": null,
   "metadata": {},
   "outputs": [],
   "source": []
  }
 ],
 "metadata": {
  "kernelspec": {
   "display_name": "Python 3",
   "language": "python",
   "name": "python3"
  },
  "language_info": {
   "codemirror_mode": {
    "name": "ipython",
    "version": 3
   },
   "file_extension": ".py",
   "mimetype": "text/x-python",
   "name": "python",
   "nbconvert_exporter": "python",
   "pygments_lexer": "ipython3",
   "version": "3.7.1"
  }
 },
 "nbformat": 4,
 "nbformat_minor": 2
}
