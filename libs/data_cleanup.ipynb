{
 "cells": [
  {
   "cell_type": "code",
   "execution_count": 1,
   "metadata": {},
   "outputs": [],
   "source": [
    "import pandas as pd\n",
    "import numpy as np"
   ]
  },
  {
   "cell_type": "code",
   "execution_count": 14,
   "metadata": {},
   "outputs": [],
   "source": [
    "df_2009 = pd.read_csv('mlb_draft_player_salaries/mlb_draft_player_salaries_2009.csv')\n",
    "df_2010 = pd.read_csv('mlb_draft_player_salaries/mlb_draft_player_salaries_2010.csv')\n",
    "df_2011 = pd.read_csv('mlb_draft_player_salaries/mlb_draft_player_salaries_2011.csv')\n",
    "df_2012 = pd.read_csv('mlb_draft_player_salaries/mlb_draft_player_salaries_2012.csv')\n",
    "df_2013 = pd.read_csv('mlb_draft_player_salaries/mlb_draft_player_salaries_2013.csv')\n",
    "df_2014 = pd.read_csv('mlb_draft_player_salaries/mlb_draft_player_salaries_2014.csv')\n",
    "df_2015 = pd.read_csv('mlb_draft_player_salaries/mlb_draft_player_salaries_2015.csv')\n",
    "df_2016 = pd.read_csv('mlb_draft_player_salaries/mlb_draft_player_salaries_2016.csv')\n",
    "df_2017 = pd.read_csv('mlb_draft_player_salaries/mlb_draft_player_salaries_2017.csv')\n",
    "df_2018 = pd.read_csv('mlb_draft_player_salaries/mlb_draft_player_salaries_2018.csv')\n",
    "\n",
    "df_list = [df_2009, df_2010, df_2011, df_2012, df_2013, df_2014, df_2015, df_2016, df_2017, df_2018]"
   ]
  },
  {
   "cell_type": "code",
   "execution_count": 46,
   "metadata": {},
   "outputs": [],
   "source": [
    "for i in range(len(df_list)):\n",
    "    df_list[i] = df_list[i].dropna(how='all')\n",
    "    df_list[i] = df_list[i].drop_duplicates()"
   ]
  },
  {
   "cell_type": "code",
   "execution_count": 47,
   "metadata": {},
   "outputs": [],
   "source": [
    "df_2009_2018 = pd.concat(df_list, ignore_index=True)"
   ]
  },
  {
   "cell_type": "code",
   "execution_count": 49,
   "metadata": {},
   "outputs": [],
   "source": [
    "df_2009_2018.to_csv('mlb_draft_player_salaries/mlb_draft_player_salaries_2009_2018.csv', index=False)"
   ]
  },
  {
   "cell_type": "code",
   "execution_count": 17,
   "metadata": {},
   "outputs": [],
   "source": [
    "df_war = pd.read_csv('nfl_player_salaries/nfl_player_salaries2011.csv')"
   ]
  },
  {
   "cell_type": "code",
   "execution_count": 18,
   "metadata": {},
   "outputs": [],
   "source": [
    "for i in range(2011, 2019):\n",
    "#     print(i)\n",
    "    df_temp = pd.read_csv(f'nfl_player_salaries/nfl_player_salaries{i}.csv')\n",
    "    df_war = df_war.append(df_temp, ignore_index = True)\n",
    "# df_war = pd.concat(df_list, ignore_index = True)"
   ]
  },
  {
   "cell_type": "code",
   "execution_count": 19,
   "metadata": {},
   "outputs": [
    {
     "data": {
      "text/plain": [
       "9000"
      ]
     },
     "execution_count": 19,
     "metadata": {},
     "output_type": "execute_result"
    }
   ],
   "source": [
    "len(df_war)"
   ]
  },
  {
   "cell_type": "code",
   "execution_count": 20,
   "metadata": {},
   "outputs": [],
   "source": [
    "df_war.to_csv('nfl_player_salaries/nfl_player_salaries_all.csv')"
   ]
  },
  {
   "cell_type": "code",
   "execution_count": 60,
   "metadata": {},
   "outputs": [],
   "source": [
    "df_bb_names = pd.read_csv('university_info/bb_players.csv')\n",
    "df_bb_names = df_bb_names[['playerID', 'nameGiven']]"
   ]
  },
  {
   "cell_type": "code",
   "execution_count": 47,
   "metadata": {},
   "outputs": [
    {
     "data": {
      "text/plain": [
       "str"
      ]
     },
     "execution_count": 47,
     "metadata": {},
     "output_type": "execute_result"
    }
   ],
   "source": [
    "df_bb_playerid_school = pd.read_csv('university_info/bb_CollegePlaying.csv')\n",
    "type(df_bb_playerid_school['playerID'][0])"
   ]
  },
  {
   "cell_type": "code",
   "execution_count": 48,
   "metadata": {},
   "outputs": [
    {
     "data": {
      "text/plain": [
       "str"
      ]
     },
     "execution_count": 48,
     "metadata": {},
     "output_type": "execute_result"
    }
   ],
   "source": [
    "df_bb_people_ids = pd.read_csv('university_info/bb_players.csv')\n",
    "df_bb_people_ids = df_bb_people[['playerID', 'birthState', 'bbrefID', 'retroID']]\n",
    "type(df_bb_people_ids['playerID'][0])"
   ]
  },
  {
   "cell_type": "code",
   "execution_count": 22,
   "metadata": {},
   "outputs": [],
   "source": [
    "df_bb_schools = pd.read_csv('university_info/bb_Schools.csv')"
   ]
  },
  {
   "cell_type": "code",
   "execution_count": 40,
   "metadata": {},
   "outputs": [
    {
     "data": {
      "text/plain": [
       "Index(['college', 'name'], dtype='object')"
      ]
     },
     "execution_count": 40,
     "metadata": {},
     "output_type": "execute_result"
    }
   ],
   "source": [
    "df_nfl_players = pd.read_json('university_info/nfl_profiles.json')\n",
    "df_nfl_players = df_nfl_players[['college', 'name']]\n",
    "df_nfl_players.columns"
   ]
  },
  {
   "cell_type": "code",
   "execution_count": 41,
   "metadata": {},
   "outputs": [
    {
     "data": {
      "text/plain": [
       "Index(['Player', 'collage', 'birth_state'], dtype='object')"
      ]
     },
     "execution_count": 41,
     "metadata": {},
     "output_type": "execute_result"
    }
   ],
   "source": [
    "df_nba_player_uni = pd.read_csv('university_info/nba_player_universities.csv')\n",
    "df_nba_player_uni = df_nba_player_uni[['Player', 'collage', 'birth_state']]\n",
    "df_nba_player_uni.columns"
   ]
  },
  {
   "cell_type": "code",
   "execution_count": 52,
   "metadata": {},
   "outputs": [],
   "source": [
    "df = df_bb_playerid_school.set_index(['playerID']).join(df_bb_people_ids.set_index('playerID'))"
   ]
  },
  {
   "cell_type": "code",
   "execution_count": 56,
   "metadata": {},
   "outputs": [],
   "source": [
    "df = df.reset_index().set_index('schoolID').join(df_bb_schools.set_index('schoolID'))"
   ]
  },
  {
   "cell_type": "code",
   "execution_count": 61,
   "metadata": {},
   "outputs": [],
   "source": [
    "df = df.reset_index().set_index('playerID').join(df_bb_names.set_index('playerID'))"
   ]
  },
  {
   "cell_type": "code",
   "execution_count": 64,
   "metadata": {},
   "outputs": [],
   "source": [
    "df = df[['name_full', 'state', 'nameGiven']]"
   ]
  },
  {
   "cell_type": "code",
   "execution_count": 73,
   "metadata": {},
   "outputs": [],
   "source": [
    "df = df.drop_duplicates()"
   ]
  },
  {
   "cell_type": "code",
   "execution_count": 67,
   "metadata": {},
   "outputs": [],
   "source": [
    "df.to_csv('mlb_player_unis.csv')"
   ]
  },
  {
   "cell_type": "code",
   "execution_count": 79,
   "metadata": {},
   "outputs": [],
   "source": [
    "school_list = df.groupby('name_full').count().reset_index()['name_full']"
   ]
  },
  {
   "cell_type": "code",
   "execution_count": 83,
   "metadata": {},
   "outputs": [],
   "source": [
    "school_list.name = 'school_name'"
   ]
  },
  {
   "cell_type": "code",
   "execution_count": 109,
   "metadata": {},
   "outputs": [],
   "source": [
    "df_nfl_players['school_name'] = ''\n",
    "#df_nfl_players[30::]"
   ]
  },
  {
   "cell_type": "code",
   "execution_count": 112,
   "metadata": {},
   "outputs": [],
   "source": [
    "for i in range(len(df_nfl_players)):\n",
    "    if df_nfl_players.iat[i, 0] == 'none':\n",
    "        df_nfl_players.iat[i, 0] == None\n",
    "df_nfl_players = df_nfl_players.dropna(how = 'any')"
   ]
  },
  {
   "cell_type": "code",
   "execution_count": 113,
   "metadata": {},
   "outputs": [],
   "source": [
    "def find_school(string, string_list):\n",
    "    for i in range(len(string_list)):\n",
    "        if (string in string_list[i]):\n",
    "            return string_list[i]"
   ]
  },
  {
   "cell_type": "code",
   "execution_count": 117,
   "metadata": {},
   "outputs": [],
   "source": [
    "df_nfl_players.to_csv('nfl_player_school')"
   ]
  },
  {
   "cell_type": "code",
   "execution_count": 136,
   "metadata": {},
   "outputs": [],
   "source": [
    "df_nfl_players = pd.read_csv('nfl_player_school')"
   ]
  },
  {
   "cell_type": "code",
   "execution_count": 124,
   "metadata": {},
   "outputs": [
    {
     "data": {
      "text/html": [
       "<div>\n",
       "<style scoped>\n",
       "    .dataframe tbody tr th:only-of-type {\n",
       "        vertical-align: middle;\n",
       "    }\n",
       "\n",
       "    .dataframe tbody tr th {\n",
       "        vertical-align: top;\n",
       "    }\n",
       "\n",
       "    .dataframe thead th {\n",
       "        text-align: right;\n",
       "    }\n",
       "</style>\n",
       "<table border=\"1\" class=\"dataframe\">\n",
       "  <thead>\n",
       "    <tr style=\"text-align: right;\">\n",
       "      <th></th>\n",
       "      <th>schoolID</th>\n",
       "      <th>name_full</th>\n",
       "      <th>city</th>\n",
       "      <th>state</th>\n",
       "      <th>country</th>\n",
       "    </tr>\n",
       "  </thead>\n",
       "  <tbody>\n",
       "    <tr>\n",
       "      <th>0</th>\n",
       "      <td>abilchrist</td>\n",
       "      <td>Abilene Christian University</td>\n",
       "      <td>Abilene</td>\n",
       "      <td>TX</td>\n",
       "      <td>USA</td>\n",
       "    </tr>\n",
       "    <tr>\n",
       "      <th>1</th>\n",
       "      <td>adelphi</td>\n",
       "      <td>Adelphi University</td>\n",
       "      <td>Garden City</td>\n",
       "      <td>NY</td>\n",
       "      <td>USA</td>\n",
       "    </tr>\n",
       "    <tr>\n",
       "      <th>2</th>\n",
       "      <td>adrianmi</td>\n",
       "      <td>Adrian College</td>\n",
       "      <td>Adrian</td>\n",
       "      <td>MI</td>\n",
       "      <td>USA</td>\n",
       "    </tr>\n",
       "    <tr>\n",
       "      <th>3</th>\n",
       "      <td>akron</td>\n",
       "      <td>University of Akron</td>\n",
       "      <td>Akron</td>\n",
       "      <td>OH</td>\n",
       "      <td>USA</td>\n",
       "    </tr>\n",
       "    <tr>\n",
       "      <th>4</th>\n",
       "      <td>alabama</td>\n",
       "      <td>University of Alabama</td>\n",
       "      <td>Tuscaloosa</td>\n",
       "      <td>AL</td>\n",
       "      <td>USA</td>\n",
       "    </tr>\n",
       "  </tbody>\n",
       "</table>\n",
       "</div>"
      ],
      "text/plain": [
       "     schoolID                     name_full         city state country\n",
       "0  abilchrist  Abilene Christian University      Abilene    TX     USA\n",
       "1     adelphi            Adelphi University  Garden City    NY     USA\n",
       "2    adrianmi                Adrian College       Adrian    MI     USA\n",
       "3       akron           University of Akron        Akron    OH     USA\n",
       "4     alabama         University of Alabama   Tuscaloosa    AL     USA"
      ]
     },
     "execution_count": 124,
     "metadata": {},
     "output_type": "execute_result"
    }
   ],
   "source": [
    "df_bb_schools.head()"
   ]
  },
  {
   "cell_type": "code",
   "execution_count": 137,
   "metadata": {},
   "outputs": [],
   "source": [
    "df_nfl_players = df_nfl_players.set_index('school_name').join(df_bb_schools.set_index('name_full'))"
   ]
  },
  {
   "cell_type": "code",
   "execution_count": 134,
   "metadata": {},
   "outputs": [],
   "source": [
    "df_nfl_players = df_nfl_players[['college', 'name', 'state']]"
   ]
  },
  {
   "cell_type": "code",
   "execution_count": 143,
   "metadata": {},
   "outputs": [],
   "source": [
    "df_nfl_players = df_nfl_players.reset_index()[['index', 'college', 'name', 'state']]"
   ]
  },
  {
   "cell_type": "code",
   "execution_count": 145,
   "metadata": {},
   "outputs": [],
   "source": [
    "df_nfl_players.to_csv('nfl_player_unis.csv')"
   ]
  },
  {
   "cell_type": "code",
   "execution_count": 151,
   "metadata": {},
   "outputs": [],
   "source": [
    "df_schools = df_bb_schools[['name_full', 'state']]"
   ]
  },
  {
   "cell_type": "code",
   "execution_count": 148,
   "metadata": {},
   "outputs": [],
   "source": [
    "df_nba_player_uni = df_nba_player_uni[['Player', 'collage']]\n",
    "df_nba_player_uni = df_nba_player_uni.dropna(how = 'any')"
   ]
  },
  {
   "cell_type": "code",
   "execution_count": 154,
   "metadata": {},
   "outputs": [],
   "source": [
    "nba_player_df = df_nba_player_uni.set_index('collage').join(df_schools.set_index('name_full'))"
   ]
  },
  {
   "cell_type": "code",
   "execution_count": 159,
   "metadata": {},
   "outputs": [],
   "source": [
    "nba_player_df.reset_index().to_csv('nba_player_unis.csv')"
   ]
  },
  {
   "cell_type": "markdown",
   "metadata": {},
   "source": [
    "coagulating player ratings by sport"
   ]
  },
  {
   "cell_type": "code",
   "execution_count": 3,
   "metadata": {},
   "outputs": [],
   "source": [
    "path = 'unclean_data/mlb_war_by_year/'\n",
    "years = [i for i in range(2011, 2019)]"
   ]
  },
  {
   "cell_type": "code",
   "execution_count": 4,
   "metadata": {},
   "outputs": [
    {
     "data": {
      "text/plain": [
       "'unclean_data/mlb_war_by_year/mlb_war_ratings_2011_1'"
      ]
     },
     "execution_count": 4,
     "metadata": {},
     "output_type": "execute_result"
    }
   ],
   "source": [
    "path + 'mlb_war_ratings_2011_1'"
   ]
  },
  {
   "cell_type": "code",
   "execution_count": 5,
   "metadata": {},
   "outputs": [],
   "source": [
    "df = pd.read_csv(path + 'mlb_war_ratings_2011_1.csv')"
   ]
  },
  {
   "cell_type": "code",
   "execution_count": 7,
   "metadata": {},
   "outputs": [],
   "source": [
    "df = df.reset_index()"
   ]
  },
  {
   "cell_type": "code",
   "execution_count": 25,
   "metadata": {},
   "outputs": [
    {
     "data": {
      "text/plain": [
       "Index(['level_0', 'level_1', 'level_2', 'level_3', 'level_4', 'level_5',\n",
       "       'level_6', 'level_7', 'level_8', 'level_9', 'level_10', 'level_11',\n",
       "       'level_12', '3B', 'HR', 'RBI', 'BB', 'IBB', 'SO', 'HBP', 'SH', 'SF',\n",
       "       'GDP', 'SB', 'CS', 'BA', 'OBP', 'SLG', 'OPS', 'Pos'],\n",
       "      dtype='object')"
      ]
     },
     "execution_count": 25,
     "metadata": {},
     "output_type": "execute_result"
    }
   ],
   "source": [
    "df.columns"
   ]
  },
  {
   "cell_type": "code",
   "execution_count": 26,
   "metadata": {},
   "outputs": [],
   "source": [
    "df = df.rename(columns = {\n",
    "    'level_0': 'rk',\n",
    "    'level_1': 'name/id',\n",
    "    'level_2': 'war',\n",
    "    'level_3': 'year',\n",
    "    'level_4': 'age',\n",
    "    'level_5': 'team',\n",
    "    'level_6': 'lg', \n",
    "    'level_7': 'g', \n",
    "    'level_8': 'pa', \n",
    "    'level_9': 'ab', \n",
    "    'level_10': 'r', \n",
    "    'level_11': 'h',\n",
    "    'level_12': '2b',\n",
    "})"
   ]
  },
  {
   "cell_type": "code",
   "execution_count": 18,
   "metadata": {},
   "outputs": [
    {
     "name": "stdout",
     "output_type": "stream",
     "text": [
      "2011\n",
      "mlb_war_ratings_2011_2.csv\n",
      "2012\n",
      "mlb_war_ratings_2012_3.csv\n",
      "caught error: mlb_war_ratings_2012_3.csv\n",
      "2013\n",
      "mlb_war_ratings_2013_2.csv\n",
      "2014\n",
      "mlb_war_ratings_2014_3.csv\n",
      "2015\n",
      "mlb_war_ratings_2015_4.csv\n",
      "caught error: mlb_war_ratings_2015_4.csv\n",
      "2016\n",
      "mlb_war_ratings_2016_2.csv\n",
      "2017\n",
      "mlb_war_ratings_2017_3.csv\n",
      "2018\n",
      "mlb_war_ratings_2018_4.csv\n"
     ]
    }
   ],
   "source": [
    "num = 2\n",
    "for year in years:\n",
    "    print(year)\n",
    "    try:\n",
    "        print(f'mlb_war_ratings_{year}_{num}.csv')\n",
    "        temp_df = pd.read_csv(path + f'mlb_war_ratings_{year}_{num}.csv')\n",
    "    except FileNotFoundError:\n",
    "        print(f'caught error: mlb_war_ratings_{year}_{num}.csv')\n",
    "        num = 1\n",
    "        temp_df = pd.read_csv(path + f'mlb_war_ratings_{year}_{num}.csv')\n",
    "    temp_df.reset_index()\n",
    "    \n",
    "    df.append(temp_df, ignore_index = False)\n",
    "    num += 1"
   ]
  },
  {
   "cell_type": "code",
   "execution_count": 40,
   "metadata": {},
   "outputs": [],
   "source": [
    "df = pd.DataFrame()\n",
    "num = 1\n",
    "year_cursor = 0\n",
    "for i in range(25):\n",
    "    try:\n",
    "        df = df.append(pd.read_csv(path + f'mlb_war_ratings_{years[year_cursor]}_{num}.csv').reset_index(), sort = False)\n",
    "        num += 1 \n",
    "    except FileNotFoundError:\n",
    "        year_cursor += 1\n",
    "        num = 1\n",
    "        df = df.append(pd.read_csv(path + f'mlb_war_ratings_{years[year_cursor]}_{num}.csv').reset_index(), sort = False)"
   ]
  },
  {
   "cell_type": "code",
   "execution_count": 33,
   "metadata": {},
   "outputs": [
    {
     "data": {
      "text/plain": [
       "[2011, 2012, 2013, 2014, 2015, 2016, 2017, 2018]"
      ]
     },
     "execution_count": 33,
     "metadata": {},
     "output_type": "execute_result"
    }
   ],
   "source": [
    "years"
   ]
  },
  {
   "cell_type": "code",
   "execution_count": 42,
   "metadata": {},
   "outputs": [
    {
     "data": {
      "text/html": [
       "<div>\n",
       "<style scoped>\n",
       "    .dataframe tbody tr th:only-of-type {\n",
       "        vertical-align: middle;\n",
       "    }\n",
       "\n",
       "    .dataframe tbody tr th {\n",
       "        vertical-align: top;\n",
       "    }\n",
       "\n",
       "    .dataframe thead th {\n",
       "        text-align: right;\n",
       "    }\n",
       "</style>\n",
       "<table border=\"1\" class=\"dataframe\">\n",
       "  <thead>\n",
       "    <tr style=\"text-align: right;\">\n",
       "      <th></th>\n",
       "      <th>level_0</th>\n",
       "      <th>level_1</th>\n",
       "      <th>level_2</th>\n",
       "      <th>level_4</th>\n",
       "      <th>level_5</th>\n",
       "      <th>level_6</th>\n",
       "      <th>level_7</th>\n",
       "      <th>level_8</th>\n",
       "      <th>level_9</th>\n",
       "      <th>level_10</th>\n",
       "      <th>...</th>\n",
       "      <th>Year</th>\n",
       "      <th>Age</th>\n",
       "      <th>Tm</th>\n",
       "      <th>Lg</th>\n",
       "      <th>G</th>\n",
       "      <th>PA</th>\n",
       "      <th>AB</th>\n",
       "      <th>R</th>\n",
       "      <th>H</th>\n",
       "      <th>2B</th>\n",
       "    </tr>\n",
       "    <tr>\n",
       "      <th>level_3</th>\n",
       "      <th></th>\n",
       "      <th></th>\n",
       "      <th></th>\n",
       "      <th></th>\n",
       "      <th></th>\n",
       "      <th></th>\n",
       "      <th></th>\n",
       "      <th></th>\n",
       "      <th></th>\n",
       "      <th></th>\n",
       "      <th></th>\n",
       "      <th></th>\n",
       "      <th></th>\n",
       "      <th></th>\n",
       "      <th></th>\n",
       "      <th></th>\n",
       "      <th></th>\n",
       "      <th></th>\n",
       "      <th></th>\n",
       "      <th></th>\n",
       "      <th></th>\n",
       "    </tr>\n",
       "  </thead>\n",
       "  <tbody>\n",
       "    <tr>\n",
       "      <th>2011.0</th>\n",
       "      <td>343</td>\n",
       "      <td>343</td>\n",
       "      <td>308</td>\n",
       "      <td>343</td>\n",
       "      <td>343</td>\n",
       "      <td>343</td>\n",
       "      <td>343</td>\n",
       "      <td>343</td>\n",
       "      <td>343</td>\n",
       "      <td>343</td>\n",
       "      <td>...</td>\n",
       "      <td>0</td>\n",
       "      <td>0</td>\n",
       "      <td>0</td>\n",
       "      <td>0</td>\n",
       "      <td>0</td>\n",
       "      <td>0</td>\n",
       "      <td>0</td>\n",
       "      <td>0</td>\n",
       "      <td>0</td>\n",
       "      <td>0</td>\n",
       "    </tr>\n",
       "    <tr>\n",
       "      <th>2012.0</th>\n",
       "      <td>729</td>\n",
       "      <td>729</td>\n",
       "      <td>702</td>\n",
       "      <td>729</td>\n",
       "      <td>729</td>\n",
       "      <td>729</td>\n",
       "      <td>729</td>\n",
       "      <td>729</td>\n",
       "      <td>729</td>\n",
       "      <td>729</td>\n",
       "      <td>...</td>\n",
       "      <td>0</td>\n",
       "      <td>0</td>\n",
       "      <td>0</td>\n",
       "      <td>0</td>\n",
       "      <td>0</td>\n",
       "      <td>0</td>\n",
       "      <td>0</td>\n",
       "      <td>0</td>\n",
       "      <td>0</td>\n",
       "      <td>0</td>\n",
       "    </tr>\n",
       "    <tr>\n",
       "      <th>2013.0</th>\n",
       "      <td>835</td>\n",
       "      <td>835</td>\n",
       "      <td>803</td>\n",
       "      <td>835</td>\n",
       "      <td>835</td>\n",
       "      <td>835</td>\n",
       "      <td>835</td>\n",
       "      <td>835</td>\n",
       "      <td>835</td>\n",
       "      <td>835</td>\n",
       "      <td>...</td>\n",
       "      <td>0</td>\n",
       "      <td>0</td>\n",
       "      <td>0</td>\n",
       "      <td>0</td>\n",
       "      <td>0</td>\n",
       "      <td>0</td>\n",
       "      <td>0</td>\n",
       "      <td>0</td>\n",
       "      <td>0</td>\n",
       "      <td>0</td>\n",
       "    </tr>\n",
       "    <tr>\n",
       "      <th>2014.0</th>\n",
       "      <td>955</td>\n",
       "      <td>955</td>\n",
       "      <td>911</td>\n",
       "      <td>955</td>\n",
       "      <td>955</td>\n",
       "      <td>955</td>\n",
       "      <td>955</td>\n",
       "      <td>955</td>\n",
       "      <td>955</td>\n",
       "      <td>955</td>\n",
       "      <td>...</td>\n",
       "      <td>0</td>\n",
       "      <td>0</td>\n",
       "      <td>0</td>\n",
       "      <td>0</td>\n",
       "      <td>0</td>\n",
       "      <td>0</td>\n",
       "      <td>0</td>\n",
       "      <td>0</td>\n",
       "      <td>0</td>\n",
       "      <td>0</td>\n",
       "    </tr>\n",
       "    <tr>\n",
       "      <th>2015.0</th>\n",
       "      <td>900</td>\n",
       "      <td>900</td>\n",
       "      <td>900</td>\n",
       "      <td>900</td>\n",
       "      <td>900</td>\n",
       "      <td>900</td>\n",
       "      <td>900</td>\n",
       "      <td>900</td>\n",
       "      <td>900</td>\n",
       "      <td>900</td>\n",
       "      <td>...</td>\n",
       "      <td>0</td>\n",
       "      <td>0</td>\n",
       "      <td>0</td>\n",
       "      <td>0</td>\n",
       "      <td>0</td>\n",
       "      <td>0</td>\n",
       "      <td>0</td>\n",
       "      <td>0</td>\n",
       "      <td>0</td>\n",
       "      <td>0</td>\n",
       "    </tr>\n",
       "  </tbody>\n",
       "</table>\n",
       "<p>5 rows × 43 columns</p>\n",
       "</div>"
      ],
      "text/plain": [
       "         level_0  level_1  level_2  level_4  level_5  level_6  level_7  \\\n",
       "level_3                                                                  \n",
       "2011.0       343      343      308      343      343      343      343   \n",
       "2012.0       729      729      702      729      729      729      729   \n",
       "2013.0       835      835      803      835      835      835      835   \n",
       "2014.0       955      955      911      955      955      955      955   \n",
       "2015.0       900      900      900      900      900      900      900   \n",
       "\n",
       "         level_8  level_9  level_10 ...  Year  Age  Tm  Lg  G  PA  AB  R  H  \\\n",
       "level_3                             ...                                       \n",
       "2011.0       343      343       343 ...     0    0   0   0  0   0   0  0  0   \n",
       "2012.0       729      729       729 ...     0    0   0   0  0   0   0  0  0   \n",
       "2013.0       835      835       835 ...     0    0   0   0  0   0   0  0  0   \n",
       "2014.0       955      955       955 ...     0    0   0   0  0   0   0  0  0   \n",
       "2015.0       900      900       900 ...     0    0   0   0  0   0   0  0  0   \n",
       "\n",
       "         2B  \n",
       "level_3      \n",
       "2011.0    0  \n",
       "2012.0    0  \n",
       "2013.0    0  \n",
       "2014.0    0  \n",
       "2015.0    0  \n",
       "\n",
       "[5 rows x 43 columns]"
      ]
     },
     "execution_count": 42,
     "metadata": {},
     "output_type": "execute_result"
    }
   ],
   "source": [
    "df.groupby('level_3').count()"
   ]
  },
  {
   "cell_type": "code",
   "execution_count": 12,
   "metadata": {},
   "outputs": [],
   "source": [
    "def combine_year(df_list, year, path):\n",
    "    num = 1\n",
    "    while num:\n",
    "        try:\n",
    "            temp_df = pd.read_csv(path + f'mlb_war_ratings_{year}{num}.csv')\n",
    "            df_list.append(temp_df)\n",
    "            num += 1\n",
    "        except:\n",
    "            return df_list\n",
    "            break"
   ]
  },
  {
   "cell_type": "code",
   "execution_count": 34,
   "metadata": {},
   "outputs": [],
   "source": [
    "x = combine_year('2011', path)"
   ]
  },
  {
   "cell_type": "code",
   "execution_count": 37,
   "metadata": {},
   "outputs": [
    {
     "data": {
      "text/plain": [
       "5"
      ]
     },
     "execution_count": 37,
     "metadata": {},
     "output_type": "execute_result"
    }
   ],
   "source": [
    "len(x)"
   ]
  },
  {
   "cell_type": "code",
   "execution_count": 30,
   "metadata": {},
   "outputs": [],
   "source": [
    "year = 2011\n",
    "num = 1\n",
    "df_list = []\n",
    "temp_df = pd.read_csv(path + f'nba_per_ratings{year}{num}.csv')"
   ]
  },
  {
   "cell_type": "code",
   "execution_count": 31,
   "metadata": {},
   "outputs": [],
   "source": [
    "df_list.append(temp_df)"
   ]
  },
  {
   "cell_type": "code",
   "execution_count": 4,
   "metadata": {},
   "outputs": [],
   "source": [
    "years = [i for i in range(2011, 2019)]"
   ]
  },
  {
   "cell_type": "code",
   "execution_count": 13,
   "metadata": {},
   "outputs": [],
   "source": [
    "df_list = []\n",
    "path = 'unclean_data/mlb_war_by_year/'\n",
    "for year in years:\n",
    "    combine_year(df_list, year, path)"
   ]
  },
  {
   "cell_type": "code",
   "execution_count": 14,
   "metadata": {},
   "outputs": [
    {
     "data": {
      "text/plain": [
       "40"
      ]
     },
     "execution_count": 14,
     "metadata": {},
     "output_type": "execute_result"
    }
   ],
   "source": [
    "len(df_list)"
   ]
  },
  {
   "cell_type": "code",
   "execution_count": 15,
   "metadata": {},
   "outputs": [],
   "source": [
    "df_mlb = pd.concat(df_list, ignore_index = True)"
   ]
  },
  {
   "cell_type": "code",
   "execution_count": 17,
   "metadata": {},
   "outputs": [],
   "source": [
    "df_mlb.to_csv('mlb_war_ratings_all.csv')"
   ]
  },
  {
   "cell_type": "code",
   "execution_count": 18,
   "metadata": {},
   "outputs": [
    {
     "data": {
      "text/html": [
       "<div>\n",
       "<style scoped>\n",
       "    .dataframe tbody tr th:only-of-type {\n",
       "        vertical-align: middle;\n",
       "    }\n",
       "\n",
       "    .dataframe tbody tr th {\n",
       "        vertical-align: top;\n",
       "    }\n",
       "\n",
       "    .dataframe thead th {\n",
       "        text-align: right;\n",
       "    }\n",
       "</style>\n",
       "<table border=\"1\" class=\"dataframe\">\n",
       "  <thead>\n",
       "    <tr style=\"text-align: right;\">\n",
       "      <th></th>\n",
       "      <th>Rk</th>\n",
       "      <th>Player</th>\n",
       "      <th>WAR/pos</th>\n",
       "      <th>Year</th>\n",
       "      <th>Age</th>\n",
       "      <th>Tm</th>\n",
       "      <th>Lg</th>\n",
       "      <th>G</th>\n",
       "      <th>PA</th>\n",
       "      <th>AB</th>\n",
       "      <th>...</th>\n",
       "      <th>SH</th>\n",
       "      <th>SF</th>\n",
       "      <th>GDP</th>\n",
       "      <th>SB</th>\n",
       "      <th>CS</th>\n",
       "      <th>BA</th>\n",
       "      <th>OBP</th>\n",
       "      <th>SLG</th>\n",
       "      <th>OPS</th>\n",
       "      <th>Pos</th>\n",
       "    </tr>\n",
       "  </thead>\n",
       "  <tbody>\n",
       "    <tr>\n",
       "      <th>0</th>\n",
       "      <td>1</td>\n",
       "      <td>Jose Bautista\\bautijo02</td>\n",
       "      <td>8.3</td>\n",
       "      <td>2011</td>\n",
       "      <td>30</td>\n",
       "      <td>TOR</td>\n",
       "      <td>AL</td>\n",
       "      <td>149</td>\n",
       "      <td>655</td>\n",
       "      <td>513</td>\n",
       "      <td>...</td>\n",
       "      <td>0</td>\n",
       "      <td>4</td>\n",
       "      <td>8</td>\n",
       "      <td>9</td>\n",
       "      <td>5</td>\n",
       "      <td>0.302</td>\n",
       "      <td>0.447</td>\n",
       "      <td>0.608</td>\n",
       "      <td>1.056</td>\n",
       "      <td>*95/D</td>\n",
       "    </tr>\n",
       "    <tr>\n",
       "      <th>1</th>\n",
       "      <td>2</td>\n",
       "      <td>Jacoby Ellsbury\\ellsbja01</td>\n",
       "      <td>8.3</td>\n",
       "      <td>2011</td>\n",
       "      <td>27</td>\n",
       "      <td>BOS</td>\n",
       "      <td>AL</td>\n",
       "      <td>158</td>\n",
       "      <td>732</td>\n",
       "      <td>660</td>\n",
       "      <td>...</td>\n",
       "      <td>3</td>\n",
       "      <td>5</td>\n",
       "      <td>8</td>\n",
       "      <td>39</td>\n",
       "      <td>15</td>\n",
       "      <td>0.321</td>\n",
       "      <td>0.376</td>\n",
       "      <td>0.552</td>\n",
       "      <td>0.928</td>\n",
       "      <td>*8/HD</td>\n",
       "    </tr>\n",
       "    <tr>\n",
       "      <th>2</th>\n",
       "      <td>3</td>\n",
       "      <td>Matt Kemp\\kempma01</td>\n",
       "      <td>8.0</td>\n",
       "      <td>2011</td>\n",
       "      <td>26</td>\n",
       "      <td>LAD</td>\n",
       "      <td>NL</td>\n",
       "      <td>161</td>\n",
       "      <td>689</td>\n",
       "      <td>602</td>\n",
       "      <td>...</td>\n",
       "      <td>0</td>\n",
       "      <td>7</td>\n",
       "      <td>16</td>\n",
       "      <td>40</td>\n",
       "      <td>11</td>\n",
       "      <td>0.324</td>\n",
       "      <td>0.399</td>\n",
       "      <td>0.586</td>\n",
       "      <td>0.986</td>\n",
       "      <td>*8/DH</td>\n",
       "    </tr>\n",
       "    <tr>\n",
       "      <th>3</th>\n",
       "      <td>4</td>\n",
       "      <td>Dustin Pedroia\\pedrodu01</td>\n",
       "      <td>8.0</td>\n",
       "      <td>2011</td>\n",
       "      <td>27</td>\n",
       "      <td>BOS</td>\n",
       "      <td>AL</td>\n",
       "      <td>159</td>\n",
       "      <td>731</td>\n",
       "      <td>635</td>\n",
       "      <td>...</td>\n",
       "      <td>2</td>\n",
       "      <td>7</td>\n",
       "      <td>12</td>\n",
       "      <td>26</td>\n",
       "      <td>8</td>\n",
       "      <td>0.307</td>\n",
       "      <td>0.387</td>\n",
       "      <td>0.474</td>\n",
       "      <td>0.861</td>\n",
       "      <td>*4/H</td>\n",
       "    </tr>\n",
       "    <tr>\n",
       "      <th>4</th>\n",
       "      <td>5</td>\n",
       "      <td>Ryan Braun\\braunry02</td>\n",
       "      <td>7.7</td>\n",
       "      <td>2011</td>\n",
       "      <td>27</td>\n",
       "      <td>MIL</td>\n",
       "      <td>NL</td>\n",
       "      <td>150</td>\n",
       "      <td>629</td>\n",
       "      <td>563</td>\n",
       "      <td>...</td>\n",
       "      <td>0</td>\n",
       "      <td>3</td>\n",
       "      <td>9</td>\n",
       "      <td>33</td>\n",
       "      <td>6</td>\n",
       "      <td>0.332</td>\n",
       "      <td>0.397</td>\n",
       "      <td>0.597</td>\n",
       "      <td>0.994</td>\n",
       "      <td>*7/HD</td>\n",
       "    </tr>\n",
       "  </tbody>\n",
       "</table>\n",
       "<p>5 rows × 30 columns</p>\n",
       "</div>"
      ],
      "text/plain": [
       "   Rk                     Player  WAR/pos  Year  Age   Tm  Lg    G   PA   AB  \\\n",
       "0   1    Jose Bautista\\bautijo02      8.3  2011   30  TOR  AL  149  655  513   \n",
       "1   2  Jacoby Ellsbury\\ellsbja01      8.3  2011   27  BOS  AL  158  732  660   \n",
       "2   3         Matt Kemp\\kempma01      8.0  2011   26  LAD  NL  161  689  602   \n",
       "3   4   Dustin Pedroia\\pedrodu01      8.0  2011   27  BOS  AL  159  731  635   \n",
       "4   5       Ryan Braun\\braunry02      7.7  2011   27  MIL  NL  150  629  563   \n",
       "\n",
       "   ...    SH  SF  GDP  SB  CS     BA    OBP    SLG    OPS    Pos  \n",
       "0  ...     0   4    8   9   5  0.302  0.447  0.608  1.056  *95/D  \n",
       "1  ...     3   5    8  39  15  0.321  0.376  0.552  0.928  *8/HD  \n",
       "2  ...     0   7   16  40  11  0.324  0.399  0.586  0.986  *8/DH  \n",
       "3  ...     2   7   12  26   8  0.307  0.387  0.474  0.861   *4/H  \n",
       "4  ...     0   3    9  33   6  0.332  0.397  0.597  0.994  *7/HD  \n",
       "\n",
       "[5 rows x 30 columns]"
      ]
     },
     "execution_count": 18,
     "metadata": {},
     "output_type": "execute_result"
    }
   ],
   "source": [
    "df_mlb.head()"
   ]
  },
  {
   "cell_type": "code",
   "execution_count": 9,
   "metadata": {},
   "outputs": [
    {
     "data": {
      "text/html": [
       "<div>\n",
       "<style scoped>\n",
       "    .dataframe tbody tr th:only-of-type {\n",
       "        vertical-align: middle;\n",
       "    }\n",
       "\n",
       "    .dataframe tbody tr th {\n",
       "        vertical-align: top;\n",
       "    }\n",
       "\n",
       "    .dataframe thead th {\n",
       "        text-align: right;\n",
       "    }\n",
       "</style>\n",
       "<table border=\"1\" class=\"dataframe\">\n",
       "  <thead>\n",
       "    <tr style=\"text-align: right;\">\n",
       "      <th></th>\n",
       "      <th>Rk</th>\n",
       "      <th>Player</th>\n",
       "      <th>Year</th>\n",
       "      <th>Age</th>\n",
       "      <th>Draft</th>\n",
       "      <th>Tm</th>\n",
       "      <th>Lg</th>\n",
       "      <th>G</th>\n",
       "      <th>GS</th>\n",
       "      <th>Yrs</th>\n",
       "      <th>PB</th>\n",
       "      <th>AP1</th>\n",
       "      <th>AV</th>\n",
       "    </tr>\n",
       "  </thead>\n",
       "  <tbody>\n",
       "    <tr>\n",
       "      <th>0</th>\n",
       "      <td>1</td>\n",
       "      <td>Aaron Rodgers\\RodgAa00</td>\n",
       "      <td>2011</td>\n",
       "      <td>28.0</td>\n",
       "      <td>1-24</td>\n",
       "      <td>GNB</td>\n",
       "      <td>NFL</td>\n",
       "      <td>15.0</td>\n",
       "      <td>15.0</td>\n",
       "      <td>1</td>\n",
       "      <td>1</td>\n",
       "      <td>1</td>\n",
       "      <td>23.0</td>\n",
       "    </tr>\n",
       "    <tr>\n",
       "      <th>1</th>\n",
       "      <td>2</td>\n",
       "      <td>Tom Brady\\BradTo00</td>\n",
       "      <td>2011</td>\n",
       "      <td>34.0</td>\n",
       "      <td>6-199</td>\n",
       "      <td>NWE</td>\n",
       "      <td>NFL</td>\n",
       "      <td>16.0</td>\n",
       "      <td>16.0</td>\n",
       "      <td>1</td>\n",
       "      <td>1</td>\n",
       "      <td>0</td>\n",
       "      <td>21.0</td>\n",
       "    </tr>\n",
       "    <tr>\n",
       "      <th>2</th>\n",
       "      <td>3</td>\n",
       "      <td>Drew Brees\\BreeDr00</td>\n",
       "      <td>2011</td>\n",
       "      <td>32.0</td>\n",
       "      <td>2-32</td>\n",
       "      <td>NOR</td>\n",
       "      <td>NFL</td>\n",
       "      <td>16.0</td>\n",
       "      <td>16.0</td>\n",
       "      <td>1</td>\n",
       "      <td>1</td>\n",
       "      <td>0</td>\n",
       "      <td>20.0</td>\n",
       "    </tr>\n",
       "    <tr>\n",
       "      <th>3</th>\n",
       "      <td>4</td>\n",
       "      <td>Patrick Peterson\\PetePa00</td>\n",
       "      <td>2011</td>\n",
       "      <td>21.0</td>\n",
       "      <td>1-5</td>\n",
       "      <td>ARI</td>\n",
       "      <td>NFL</td>\n",
       "      <td>16.0</td>\n",
       "      <td>16.0</td>\n",
       "      <td>1</td>\n",
       "      <td>1</td>\n",
       "      <td>1</td>\n",
       "      <td>20.0</td>\n",
       "    </tr>\n",
       "    <tr>\n",
       "      <th>4</th>\n",
       "      <td>5</td>\n",
       "      <td>Jahri Evans\\EvanJa21</td>\n",
       "      <td>2011</td>\n",
       "      <td>28.0</td>\n",
       "      <td>4-108</td>\n",
       "      <td>NOR</td>\n",
       "      <td>NFL</td>\n",
       "      <td>16.0</td>\n",
       "      <td>16.0</td>\n",
       "      <td>1</td>\n",
       "      <td>1</td>\n",
       "      <td>1</td>\n",
       "      <td>19.0</td>\n",
       "    </tr>\n",
       "  </tbody>\n",
       "</table>\n",
       "</div>"
      ],
      "text/plain": [
       "   Rk                     Player  Year   Age  Draft   Tm   Lg     G    GS  \\\n",
       "0   1     Aaron Rodgers\\RodgAa00  2011  28.0   1-24  GNB  NFL  15.0  15.0   \n",
       "1   2         Tom Brady\\BradTo00  2011  34.0  6-199  NWE  NFL  16.0  16.0   \n",
       "2   3        Drew Brees\\BreeDr00  2011  32.0   2-32  NOR  NFL  16.0  16.0   \n",
       "3   4  Patrick Peterson\\PetePa00  2011  21.0    1-5  ARI  NFL  16.0  16.0   \n",
       "4   5       Jahri Evans\\EvanJa21  2011  28.0  4-108  NOR  NFL  16.0  16.0   \n",
       "\n",
       "   Yrs  PB  AP1    AV  \n",
       "0    1   1    1  23.0  \n",
       "1    1   1    0  21.0  \n",
       "2    1   1    0  20.0  \n",
       "3    1   1    1  20.0  \n",
       "4    1   1    1  19.0  "
      ]
     },
     "execution_count": 9,
     "metadata": {},
     "output_type": "execute_result"
    }
   ],
   "source": [
    "df_nfl.head()"
   ]
  },
  {
   "cell_type": "code",
   "execution_count": null,
   "metadata": {},
   "outputs": [],
   "source": []
  }
 ],
 "metadata": {
  "kernelspec": {
   "display_name": "Python 3",
   "language": "python",
   "name": "python3"
  },
  "language_info": {
   "codemirror_mode": {
    "name": "ipython",
    "version": 3
   },
   "file_extension": ".py",
   "mimetype": "text/x-python",
   "name": "python",
   "nbconvert_exporter": "python",
   "pygments_lexer": "ipython3",
   "version": "3.7.1"
  }
 },
 "nbformat": 4,
 "nbformat_minor": 2
}
