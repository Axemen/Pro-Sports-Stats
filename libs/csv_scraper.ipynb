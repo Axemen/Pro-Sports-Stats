{
 "cells": [
  {
   "cell_type": "code",
   "execution_count": 1,
   "metadata": {},
   "outputs": [],
   "source": [
    "from splinter import Browser\n",
    "from bs4 import BeautifulSoup\n",
    "import pandas as pd\n",
    "from time import sleep"
   ]
  },
  {
   "cell_type": "code",
   "execution_count": 3,
   "metadata": {},
   "outputs": [],
   "source": [
    "user = 'logan7734'\n",
    "password = 'project2'"
   ]
  },
  {
   "cell_type": "code",
   "execution_count": 2,
   "metadata": {},
   "outputs": [],
   "source": [
    "browser = Browser('chrome')"
   ]
  },
  {
   "cell_type": "code",
   "execution_count": 3,
   "metadata": {},
   "outputs": [],
   "source": [
    "url = 'https://www.pro-football-reference.com/play-index/psl_finder.cgi?request=1&match=single&year_min=2011&year_max=2011&season_start=1&season_end=-1&pos%5B%5D=qb&pos%5B%5D=rb&pos%5B%5D=wr&pos%5B%5D=te&pos%5B%5D=e&pos%5B%5D=t&pos%5B%5D=g&pos%5B%5D=c&pos%5B%5D=ol&pos%5B%5D=dt&pos%5B%5D=de&pos%5B%5D=dl&pos%5B%5D=ilb&pos%5B%5D=olb&pos%5B%5D=lb&pos%5B%5D=cb&pos%5B%5D=s&pos%5B%5D=db&pos%5B%5D=k&pos%5B%5D=p&draft_year_min=1936&draft_year_max=2019&draft_slot_min=1&draft_slot_max=500&draft_pick_in_round=pick_overall&conference=any&draft_pos%5B%5D=qb&draft_pos%5B%5D=rb&draft_pos%5B%5D=wr&draft_pos%5B%5D=te&draft_pos%5B%5D=e&draft_pos%5B%5D=t&draft_pos%5B%5D=g&draft_pos%5B%5D=c&draft_pos%5B%5D=ol&draft_pos%5B%5D=dt&draft_pos%5B%5D=de&draft_pos%5B%5D=dl&draft_pos%5B%5D=ilb&draft_pos%5B%5D=olb&draft_pos%5B%5D=lb&draft_pos%5B%5D=cb&draft_pos%5B%5D=s&draft_pos%5B%5D=db&draft_pos%5B%5D=k&draft_pos%5B%5D=p&c5val=1.0&order_by=av'"
   ]
  },
  {
   "cell_type": "code",
   "execution_count": 4,
   "metadata": {},
   "outputs": [],
   "source": [
    "browser.visit(url)"
   ]
  },
  {
   "cell_type": "code",
   "execution_count": 5,
   "metadata": {},
   "outputs": [],
   "source": [
    "browser.find_by_text('Share & more').click()"
   ]
  },
  {
   "cell_type": "code",
   "execution_count": 6,
   "metadata": {},
   "outputs": [],
   "source": [
    "browser.find_by_text('Get table as CSV (for Excel)').click()"
   ]
  },
  {
   "cell_type": "code",
   "execution_count": 7,
   "metadata": {},
   "outputs": [],
   "source": [
    "soup = BeautifulSoup(browser.html, 'html.parser')"
   ]
  },
  {
   "cell_type": "code",
   "execution_count": 8,
   "metadata": {},
   "outputs": [
    {
     "data": {
      "text/plain": [
       "1"
      ]
     },
     "execution_count": 8,
     "metadata": {},
     "output_type": "execute_result"
    }
   ],
   "source": [
    "len(soup.find_all('pre'))"
   ]
  },
  {
   "cell_type": "code",
   "execution_count": 14,
   "metadata": {},
   "outputs": [
    {
     "data": {
      "text/plain": [
       "6134"
      ]
     },
     "execution_count": 14,
     "metadata": {},
     "output_type": "execute_result"
    }
   ],
   "source": [
    "csv_string = soup.find_all('pre')[0].text[40::]\n",
    "len(csv_string)"
   ]
  },
  {
   "cell_type": "code",
   "execution_count": 15,
   "metadata": {},
   "outputs": [
    {
     "data": {
      "text/plain": [
       "\"Rk,Player,Year,Age,Draft,Tm,Lg,G,GS,Yrs,PB,AP1,AV\\n1,Aaron Rodgers\\\\RodgAa00,2011,28,1-24,GNB,NFL,15,15,1,1,1,23\\n2,Tom Brady\\\\BradTo00,2011,34,6-199,NWE,NFL,16,16,1,1,0,21\\n3,Drew Brees\\\\BreeDr00,2011,32,2-32,NOR,NFL,16,16,1,1,0,20\\n4,Patrick Peterson\\\\PetePa00,2011,21,1-5,ARI,NFL,16,16,1,1,1,20\\n5,Jahri Evans\\\\EvanJa21,2011,28,4-108,NOR,NFL,16,16,1,1,1,19\\n6,Cam Newton\\\\NewtCa00,2011,22,1-1,CAR,NFL,16,16,1,1,0,19\\n7,Carl Nicks\\\\NickCa20,2011,26,5-164,NOR,NFL,16,16,1,1,1,19\\n8,NaVorro Bowman\\\\BowmNa99,2011,23,3-91,SFO,NFL,16,16,1,0,1,18\\n9,Haloti Ngata\\\\NgatHa20,2011,27,1-12,BAL,NFL,16,16,1,1,1,18\\n10,Justin Smith\\\\SmitJu20,2011,32,1-4,SFO,NFL,16,16,1,1,1,18\\n11,Philip Rivers\\\\RivePh00,2011,30,1-4,SDG,NFL,16,16,1,1,0,17\\n12,Terrell Suggs\\\\SuggTe99,2011,29,1-10,BAL,NFL,16,16,1,1,1,17\\n13,Wes Welker\\\\WelkWe00,2011,30,,NWE,NFL,16,15,1,1,1,17\\n14,Ray Rice\\\\RiceRa00,2011,24,2-55,BAL,NFL,16,16,1,1,0,16\\n15,Matthew Stafford\\\\StafMa00,2011,23,1-1,DET,NFL,16,16,1,0,0,16\\n16,Scott Wells\\\\WellSc20,2011,30,7-251,GNB,NFL,16,16,1,1,0,16\\n17,Patrick Willis\\\\WillPa98,2011,26,1-11,SFO,NFL,13,13,1,1,1,16\\n18,Calvin Johnson\\\\JohnCa00,2011,26,1-2,DET,NFL,16,16,1,1,1,15\\n19,Derrick Johnson\\\\JohnDe25,2011,29,1-15,KAN,NFL,16,16,1,1,1,15\\n20,Ryan Kalil\\\\KaliRy20,2011,26,2-59,CAR,NFL,16,16,1,1,0,15\\n21,Logan Mankins\\\\MankLo20,2011,29,1-32,NWE,NFL,15,15,1,1,0,15\\n22,Eli Manning\\\\MannEl00,2011,30,1-1,NYG,NFL,16,16,1,1,0,15\\n23,Jordy Nelson\\\\NelsJo00,2011,26,2-36,GNB,NFL,16,9,1,0,0,15\\n24,Troy Polamalu\\\\PolaTr99,2011,30,1-16,PIT,NFL,16,16,1,1,1,15\\n25,Darrelle Revis\\\\ReviDa99,2011,26,1-14,NYJ,NFL,16,16,1,1,1,15\\n26,Matt Ryan\\\\RyanMa00,2011,26,1-3,ATL,NFL,16,16,1,0,0,15\\n27,DeMarcus Ware\\\\WareDe99,2011,29,1-11,DAL,NFL,16,16,1,1,1,15\\n28,Jared Allen\\\\AlleJa22,2011,29,4-126,MIN,NFL,16,16,1,1,1,14\\n29,Geno Atkins\\\\AtkiGe99,2011,23,4-120,CIN,NFL,16,15,1,1,0,14\\n30,Brian Cushing\\\\CushBr99,2011,24,1-15,HOU,NFL,16,16,1,0,0,14\\n31,Rob Gronkowski\\\\GronRo00,2011,22,2-42,NWE,NFL,16,16,1,1,1,14\\n32,Jason Pierre-Paul\\\\PierJa99,2011,22,1-15,NYG,NFL,16,12,1,1,1,14\\n33,Carlos Rogers\\\\RogeCa20,2011,30,1-9,SFO,NFL,16,16,1,1,0,14\\n34,Steve Smith\\\\SmitSt01,2011,32,3-74,CAR,NFL,16,16,1,1,0,14\\n35,Jason Babin\\\\BabiJa20,2011,31,1-27,PHI,NFL,16,16,1,1,0,13\\n36,Duane Brown\\\\BrowDu20,2011,26,1-26,HOU,NFL,16,16,1,0,0,13\\n37,Jermon Bushrod\\\\BushJe20,2011,27,4-125,NOR,NFL,16,16,1,1,0,13\\n38,Victor Cruz\\\\CruzVi00,2011,25,,NYG,NFL,16,7,1,0,0,13\\n39,Arian Foster\\\\FostAr00,2011,25,,HOU,NFL,13,13,1,1,0,13\\n40,Jimmy Graham\\\\GrahJi00,2011,25,3-95,NOR,NFL,16,11,1,1,0,13\\n41,Maurice Jones-Drew\\\\DrewMa00,2011,26,2-60,JAX,NFL,16,16,1,1,1,13\\n42,Johnathan Joseph\\\\JoseJo20,2011,27,1-24,HOU,NFL,15,15,1,1,0,13\\n43,Ryan Mathews\\\\MathRy00,2011,24,1-12,SDG,NFL,14,14,1,1,0,13\\n44,Jason Peters\\\\PeteJa21,2011,29,,PHI,NFL,14,14,1,1,1,13\\n45,Tony Romo\\\\RomoTo00,2011,31,,DAL,NFL,16,16,1,0,0,13\\n46,Alex Smith\\\\SmitAl03,2011,27,1-1,SFO,NFL,16,16,1,0,0,13\\n47,Darren Sproles\\\\SproDa00,2011,28,4-130,NOR,NFL,16,4,1,0,0,13\\n48,Joe Staley\\\\StalJo20,2011,27,1-28,SFO,NFL,16,16,1,1,0,13\\n49,Michael Vick\\\\VickMi00,2011,31,1-1,PHI,NFL,13,13,1,0,0,13\\n50,Cameron Wake\\\\WakeCa00,2011,29,,MIA,NFL,16,14,1,0,0,13\\n51,Brian Waters\\\\WateBr55,2011,34,,NWE,NFL,16,16,1,1,0,13\\n52,Roddy White\\\\WhitRo00,2011,30,1-27,ATL,NFL,16,16,1,1,0,13\\n53,Vince Wilfork\\\\WilfVi20,2011,30,1-21,NWE,NFL,16,16,1,1,0,13\\n54,Joe Flacco\\\\FlacJo00,2011,26,1-18,BAL,NFL,16,16,1,0,0,12\\n55,London Fletcher\\\\FletLo20,2011,36,,WAS,NFL,16,16,1,1,0,12\\n56,Tamba Hali\\\\HaliTa20,2011,28,1-20,KAN,NFL,16,16,1,1,0,12\\n57,Percy Harvin\\\\HarvPe00,2011,23,1-22,MIN,NFL,16,14,1,0,0,12\\n58,Vincent Jackson\\\\JackVi00,2011,28,2-61,SDG,NFL,16,16,1,1,0,12\\n59,T.J. Lang\\\\LangT.20,2011,24,4-109,GNB,NFL,16,16,1,0,0,12\\n60,Von Miller\\\\MillVo00,2011,22,1-2,DEN,NFL,15,15,1,1,0,12\\n61,Julius Peppers\\\\PeppJu99,2011,31,1-2,CHI,NFL,16,16,1,1,0,12\\n62,Maurkice Pouncey\\\\PounMa20,2011,22,1-18,PIT,NFL,14,14,1,1,1,12\\n63,Ed Reed*\\\\ReedEd00,2011,33,1-24,BAL,NFL,16,16,1,1,0,12\\n64,Ben Roethlisberger\\\\RoetBe00,2011,29,1-11,PIT,NFL,15,15,1,1,0,12\\n65,Brian Urlacher*\\\\UrlaBr00,2011,33,1-9,CHI,NFL,16,16,1,1,0,12\\n66,Eric Weddle\\\\WeddEr99,2011,26,2-37,SDG,NFL,16,16,1,1,1,12\\n67,Charles Woodson\\\\WoodCh00,2011,35,1-4,GNB,NFL,15,15,1,1,1,12\\n68,Marshal Yanda\\\\YandMa20,2011,27,3-86,BAL,NFL,16,16,1,1,0,12\\n69,Lance Briggs\\\\BrigLa99,2011,31,3-68,CHI,NFL,16,16,1,1,0,11\\n70,Brandon Browner\\\\BrowBr00,2011,27,,SEA,NFL,16,16,1,1,0,11\\n71,Marques Colston\\\\ColsMa00,2011,28,7-252,NOR,NFL,14,7,1,0,0,11\\n72,Andy Dalton\\\\DaltAn00,2011,24,2-35,CIN,NFL,16,16,1,1,0,11\\n73,Ryan Fitzpatrick\\\\FitzRy00,2011,29,7-250,BUF,NFL,16,16,1,0,0,11\\n74,David Harris\\\\HarrDa99,2011,27,2-47,NYJ,NFL,16,16,1,0,0,11\\n75,D'Qwell Jackson\\\\JackDQ20,2011,28,2-34,CLE,NFL,16,16,1,0,0,11\\n76,Greg Jennings\\\\JennGr00,2011,28,2-52,GNB,NFL,13,13,1,1,0,11\\n77,Brandon Marshall\\\\MarsBr00,2011,27,4-119,MIA,NFL,16,16,1,1,0,11\\n78,LeSean McCoy\\\\McCoLe01,2011,23,2-53,PHI,NFL,15,15,1,1,1,11\\n79,Chris Myers\\\\MyerCh20,2011,30,6-200,HOU,NFL,16,16,1,1,0,11\\n80,Josh Sitton\\\\SittJo20,2011,25,4-135,GNB,NFL,14,14,1,0,0,11\\n81,Antonio Smith\\\\SmitAn22,2011,30,5-135,HOU,NFL,16,16,1,1,0,11\\n82,Earl Thomas\\\\ThomEa99,2011,22,1-14,SEA,NFL,16,16,1,1,0,11\\n83,Joe Thomas\\\\ThomJo28,2011,27,1-3,CLE,NFL,16,16,1,1,1,11\\n84,Michael Turner\\\\TurnMi00,2011,29,5-154,ATL,NFL,16,15,1,0,0,11\\n85,Justin Blalock\\\\BlalJu20,2011,28,2-39,ATL,NFL,16,16,1,0,0,10\\n86,Antonio Brown\\\\BrowAn04,2011,23,6-195,PIT,NFL,16,3,1,1,0,10\\n87,Kevin Burnett\\\\BurnKe20,2011,29,2-42,MIA,NFL,16,16,1,0,0,10\\n88,Reggie Bush\\\\BushRe00,2011,26,1-2,MIA,NFL,15,15,1,0,0,10\\n89,Calais Campbell\\\\CampCa99,2011,25,2-50,ARI,NFL,16,16,1,0,0,10\\n90,Tyson Clabo\\\\ClabTy20,2011,30,,ATL,NFL,16,16,1,0,0,10\\n91,Ryan Clark\\\\ClarRy20,2011,32,,PIT,NFL,16,16,1,1,0,10\\n92,Jeromey Clary\\\\ClarJe20,2011,28,6-187,SDG,NFL,16,16,1,0,0,10\\n93,Karlos Dansby\\\\DansKa20,2011,30,2-33,MIA,NFL,16,16,1,0,0,10\\n94,Elvis Dumervil\\\\DumeEl20,2011,27,4-126,DEN,NFL,14,14,1,1,0,10\\n95,Larry Fitzgerald\\\\FitzLa00,2011,28,1-3,ARI,NFL,16,16,1,1,0,10\\n96,Matt Forte\\\\FortMa00,2011,26,2-44,CHI,NFL,12,12,1,1,0,10\\n97,Frank Gore\\\\GoreFr00,2011,28,3-65,SFO,NFL,16,15,1,1,0,10\\n98,A.J. Green\\\\GreeA.00,2011,23,1-4,CIN,NFL,15,15,1,1,0,10\\n99,Nick Hardwick\\\\HardNi55,2011,30,3-66,SDG,NFL,16,16,1,0,0,10\\n100,James Harrison\\\\HarrJa23,2011,33,,PIT,NFL,11,11,1,1,0,10\""
      ]
     },
     "execution_count": 15,
     "metadata": {},
     "output_type": "execute_result"
    }
   ],
   "source": [
    "csv_string"
   ]
  },
  {
   "cell_type": "code",
   "execution_count": 12,
   "metadata": {},
   "outputs": [
    {
     "data": {
      "text/plain": [
       "40"
      ]
     },
     "execution_count": 12,
     "metadata": {},
     "output_type": "execute_result"
    }
   ],
   "source": [
    "x = '\\n,,,,,,,Games,Games,Misc,Misc,Misc,Misc\\n'\n",
    "len(x)"
   ]
  },
  {
   "cell_type": "code",
   "execution_count": 57,
   "metadata": {},
   "outputs": [],
   "source": [
    "f = open(\"test.txt\", \"w\")"
   ]
  },
  {
   "cell_type": "code",
   "execution_count": 58,
   "metadata": {},
   "outputs": [
    {
     "data": {
      "text/plain": [
       "33427"
      ]
     },
     "execution_count": 58,
     "metadata": {},
     "output_type": "execute_result"
    }
   ],
   "source": [
    "f.write(csv_string)"
   ]
  },
  {
   "cell_type": "code",
   "execution_count": 59,
   "metadata": {},
   "outputs": [],
   "source": [
    "f.close()"
   ]
  },
  {
   "cell_type": "code",
   "execution_count": null,
   "metadata": {},
   "outputs": [],
   "source": []
  },
  {
   "cell_type": "code",
   "execution_count": 17,
   "metadata": {},
   "outputs": [],
   "source": [
    "def scrape_csv(url):\n",
    "#     browser = Browser('chrome')\n",
    "    browser.visit(url)\n",
    "    num = 1\n",
    "    try: \n",
    "        while browser.find_by_text('Next Page').first:\n",
    "\n",
    "            browser.find_by_text('Share & more').click()\n",
    "            sleep(1)\n",
    "            browser.find_by_text('Get table as CSV (for Excel)').click()\n",
    "\n",
    "            soup = BeautifulSoup(browser.html, 'html.parser')\n",
    "            csv_string = soup.find_all('pre')[0].text[40::]\n",
    "\n",
    "            f = open(f'unclean_data/tmep/nfl_av_ratings_{year}_{num}.csv', 'w')\n",
    "            f.write(csv_string)\n",
    "\n",
    "            browser.find_by_text('Next Page').first.click()\n",
    "            print(num)\n",
    "            num += 1\n",
    "    except:\n",
    "        browser.find_by_text('Share & more').click()\n",
    "        sleep(1)\n",
    "        browser.find_by_text('Get table as CSV (for Excel)').click()\n",
    "\n",
    "        soup = BeautifulSoup(browser.html, 'html.parser')\n",
    "        csv_string = soup.find_all('pre')[0].text[40::]\n",
    "\n",
    "        f = open(f'unclean_data/tmep/nfl_av_ratings_{year}_{num}.csv', 'w')\n",
    "        f.write(csv_string)"
   ]
  },
  {
   "cell_type": "code",
   "execution_count": 19,
   "metadata": {},
   "outputs": [
    {
     "name": "stdout",
     "output_type": "stream",
     "text": [
      "1\n",
      "2\n",
      "3\n",
      "4\n",
      "5\n",
      "6\n",
      "7\n",
      "8\n",
      "9\n",
      "10\n",
      "11\n",
      "12\n",
      "13\n",
      "14\n",
      "15\n",
      "16\n",
      "17\n",
      "18\n",
      "19\n",
      "20\n",
      "21\n",
      "22\n",
      "23\n",
      "24\n",
      "25\n",
      "26\n",
      "27\n",
      "28\n",
      "29\n",
      "30\n",
      "31\n",
      "32\n",
      "33\n",
      "34\n",
      "35\n",
      "36\n",
      "37\n",
      "38\n",
      "39\n",
      "40\n",
      "41\n",
      "42\n",
      "43\n",
      "44\n",
      "45\n",
      "46\n",
      "47\n",
      "48\n",
      "49\n",
      "50\n",
      "51\n",
      "52\n",
      "53\n",
      "54\n",
      "55\n",
      "56\n",
      "57\n",
      "58\n"
     ]
    },
    {
     "ename": "KeyError",
     "evalue": "0",
     "output_type": "error",
     "traceback": [
      "\u001b[1;31m---------------------------------------------------------------------------\u001b[0m",
      "\u001b[1;31mIndexError\u001b[0m                                Traceback (most recent call last)",
      "\u001b[1;32m~\\AppData\\Local\\Continuum\\anaconda3\\lib\\site-packages\\splinter\\element_list.py\u001b[0m in \u001b[0;36m__getitem__\u001b[1;34m(self, index)\u001b[0m\n\u001b[0;32m     39\u001b[0m         \u001b[1;32mtry\u001b[0m\u001b[1;33m:\u001b[0m\u001b[1;33m\u001b[0m\u001b[0m\n\u001b[1;32m---> 40\u001b[1;33m             \u001b[1;32mreturn\u001b[0m \u001b[0msuper\u001b[0m\u001b[1;33m(\u001b[0m\u001b[0mElementList\u001b[0m\u001b[1;33m,\u001b[0m \u001b[0mself\u001b[0m\u001b[1;33m)\u001b[0m\u001b[1;33m.\u001b[0m\u001b[0m__getitem__\u001b[0m\u001b[1;33m(\u001b[0m\u001b[0mindex\u001b[0m\u001b[1;33m)\u001b[0m\u001b[1;33m\u001b[0m\u001b[0m\n\u001b[0m\u001b[0;32m     41\u001b[0m         \u001b[1;32mexcept\u001b[0m \u001b[0mIndexError\u001b[0m\u001b[1;33m:\u001b[0m\u001b[1;33m\u001b[0m\u001b[0m\n",
      "\u001b[1;31mIndexError\u001b[0m: list index out of range",
      "\nDuring handling of the above exception, another exception occurred:\n",
      "\u001b[1;31mElementDoesNotExist\u001b[0m                       Traceback (most recent call last)",
      "\u001b[1;32m<ipython-input-18-77ea971ff54a>\u001b[0m in \u001b[0;36mscrape_csv\u001b[1;34m(url)\u001b[0m\n\u001b[0;32m      5\u001b[0m     \u001b[1;32mtry\u001b[0m\u001b[1;33m:\u001b[0m\u001b[1;33m\u001b[0m\u001b[0m\n\u001b[1;32m----> 6\u001b[1;33m         \u001b[1;32mwhile\u001b[0m \u001b[0mbrowser\u001b[0m\u001b[1;33m.\u001b[0m\u001b[0mfind_by_text\u001b[0m\u001b[1;33m(\u001b[0m\u001b[1;34m'Next Page'\u001b[0m\u001b[1;33m)\u001b[0m\u001b[1;33m.\u001b[0m\u001b[0mfirst\u001b[0m\u001b[1;33m:\u001b[0m\u001b[1;33m\u001b[0m\u001b[0m\n\u001b[0m\u001b[0;32m      7\u001b[0m \u001b[1;33m\u001b[0m\u001b[0m\n",
      "\u001b[1;32m~\\AppData\\Local\\Continuum\\anaconda3\\lib\\site-packages\\splinter\\element_list.py\u001b[0m in \u001b[0;36mfirst\u001b[1;34m(self)\u001b[0m\n\u001b[0;32m     54\u001b[0m         \"\"\"\n\u001b[1;32m---> 55\u001b[1;33m         \u001b[1;32mreturn\u001b[0m \u001b[0mself\u001b[0m\u001b[1;33m[\u001b[0m\u001b[1;36m0\u001b[0m\u001b[1;33m]\u001b[0m\u001b[1;33m\u001b[0m\u001b[0m\n\u001b[0m\u001b[0;32m     56\u001b[0m \u001b[1;33m\u001b[0m\u001b[0m\n",
      "\u001b[1;32m~\\AppData\\Local\\Continuum\\anaconda3\\lib\\site-packages\\splinter\\element_list.py\u001b[0m in \u001b[0;36m__getitem__\u001b[1;34m(self, index)\u001b[0m\n\u001b[0;32m     43\u001b[0m                 u'no elements could be found with {0} \"{1}\"'.format(\n\u001b[1;32m---> 44\u001b[1;33m                     \u001b[0mself\u001b[0m\u001b[1;33m.\u001b[0m\u001b[0mfind_by\u001b[0m\u001b[1;33m,\u001b[0m \u001b[0mself\u001b[0m\u001b[1;33m.\u001b[0m\u001b[0mquery\u001b[0m\u001b[1;33m\u001b[0m\u001b[0m\n\u001b[0m\u001b[0;32m     45\u001b[0m                 )\n",
      "\u001b[1;31mElementDoesNotExist\u001b[0m: no elements could be found with text \"Next Page\"",
      "\nDuring handling of the above exception, another exception occurred:\n",
      "\u001b[1;31mKeyError\u001b[0m                                  Traceback (most recent call last)",
      "\u001b[1;32m<ipython-input-19-584322f51a89>\u001b[0m in \u001b[0;36m<module>\u001b[1;34m()\u001b[0m\n\u001b[1;32m----> 1\u001b[1;33m \u001b[0mscrape_csv\u001b[0m\u001b[1;33m(\u001b[0m\u001b[0murl\u001b[0m\u001b[1;33m)\u001b[0m\u001b[1;33m\u001b[0m\u001b[0m\n\u001b[0m",
      "\u001b[1;32m<ipython-input-18-77ea971ff54a>\u001b[0m in \u001b[0;36mscrape_csv\u001b[1;34m(url)\u001b[0m\n\u001b[0;32m     25\u001b[0m \u001b[1;33m\u001b[0m\u001b[0m\n\u001b[0;32m     26\u001b[0m         \u001b[0msoup\u001b[0m \u001b[1;33m=\u001b[0m \u001b[0mBeautifulSoup\u001b[0m\u001b[1;33m(\u001b[0m\u001b[0mbrowser\u001b[0m\u001b[1;33m.\u001b[0m\u001b[0mhtml\u001b[0m\u001b[1;33m,\u001b[0m \u001b[1;34m'html.parser'\u001b[0m\u001b[1;33m)\u001b[0m\u001b[1;33m\u001b[0m\u001b[0m\n\u001b[1;32m---> 27\u001b[1;33m         \u001b[0mcsv_string\u001b[0m \u001b[1;33m=\u001b[0m \u001b[0msoup\u001b[0m\u001b[1;33m.\u001b[0m\u001b[0mfind\u001b[0m\u001b[1;33m(\u001b[0m\u001b[1;34m'pre'\u001b[0m\u001b[1;33m)\u001b[0m\u001b[1;33m[\u001b[0m\u001b[1;36m0\u001b[0m\u001b[1;33m]\u001b[0m\u001b[1;33m.\u001b[0m\u001b[0mtext\u001b[0m\u001b[1;33m[\u001b[0m\u001b[1;36m40\u001b[0m\u001b[1;33m:\u001b[0m\u001b[1;33m:\u001b[0m\u001b[1;33m]\u001b[0m\u001b[1;33m\u001b[0m\u001b[0m\n\u001b[0m\u001b[0;32m     28\u001b[0m \u001b[1;33m\u001b[0m\u001b[0m\n\u001b[0;32m     29\u001b[0m         \u001b[0mf\u001b[0m \u001b[1;33m=\u001b[0m \u001b[0mopen\u001b[0m\u001b[1;33m(\u001b[0m\u001b[1;34mf'nfl_av_ratings{num}.csv'\u001b[0m\u001b[1;33m,\u001b[0m \u001b[1;34m'w'\u001b[0m\u001b[1;33m)\u001b[0m\u001b[1;33m\u001b[0m\u001b[0m\n",
      "\u001b[1;32m~\\AppData\\Local\\Continuum\\anaconda3\\lib\\site-packages\\bs4\\element.py\u001b[0m in \u001b[0;36m__getitem__\u001b[1;34m(self, key)\u001b[0m\n\u001b[0;32m   1069\u001b[0m         \"\"\"tag[key] returns the value of the 'key' attribute for the tag,\n\u001b[0;32m   1070\u001b[0m         and throws an exception if it's not there.\"\"\"\n\u001b[1;32m-> 1071\u001b[1;33m         \u001b[1;32mreturn\u001b[0m \u001b[0mself\u001b[0m\u001b[1;33m.\u001b[0m\u001b[0mattrs\u001b[0m\u001b[1;33m[\u001b[0m\u001b[0mkey\u001b[0m\u001b[1;33m]\u001b[0m\u001b[1;33m\u001b[0m\u001b[0m\n\u001b[0m\u001b[0;32m   1072\u001b[0m \u001b[1;33m\u001b[0m\u001b[0m\n\u001b[0;32m   1073\u001b[0m     \u001b[1;32mdef\u001b[0m \u001b[0m__iter__\u001b[0m\u001b[1;33m(\u001b[0m\u001b[0mself\u001b[0m\u001b[1;33m)\u001b[0m\u001b[1;33m:\u001b[0m\u001b[1;33m\u001b[0m\u001b[0m\n",
      "\u001b[1;31mKeyError\u001b[0m: 0"
     ]
    }
   ],
   "source": [
    "scrape_csv(url)"
   ]
  },
  {
   "cell_type": "code",
   "execution_count": 78,
   "metadata": {},
   "outputs": [
    {
     "data": {
      "text/plain": [
       "<splinter.driver.webdriver.WebDriverElement at 0x19011314630>"
      ]
     },
     "execution_count": 78,
     "metadata": {},
     "output_type": "execute_result"
    }
   ],
   "source": [
    "browser.find_by_text('Next page').first"
   ]
  },
  {
   "cell_type": "code",
   "execution_count": 87,
   "metadata": {},
   "outputs": [
    {
     "data": {
      "text/plain": [
       "15270"
      ]
     },
     "execution_count": 87,
     "metadata": {},
     "output_type": "execute_result"
    }
   ],
   "source": [
    "browser.find_by_text('Share & more').click()\n",
    "sleep(1)\n",
    "browser.find_by_text('Get table as CSV (for Excel)').click()\n",
    "\n",
    "soup = BeautifulSoup(browser.html, 'html.parser')\n",
    "csv_string = soup.find('pre').text[2::]\n",
    "\n",
    "f = open(f'mlb_stats{9}.csv', 'w')\n",
    "f.write(csv_string)"
   ]
  },
  {
   "cell_type": "code",
   "execution_count": 38,
   "metadata": {},
   "outputs": [],
   "source": [
    "df = pd.read_csv('tmep/mlb_war_ratings/mlb_war_ratings1.txt')"
   ]
  },
  {
   "cell_type": "code",
   "execution_count": 4,
   "metadata": {},
   "outputs": [],
   "source": [
    "browser = Browser('chrome')"
   ]
  },
  {
   "cell_type": "code",
   "execution_count": 19,
   "metadata": {},
   "outputs": [
    {
     "name": "stdout",
     "output_type": "stream",
     "text": [
      "1\n",
      "2\n",
      "3\n",
      "4\n",
      "5\n",
      "6\n",
      "7\n",
      "8\n",
      "9\n",
      "10\n",
      "11\n",
      "12\n",
      "13\n",
      "14\n",
      "15\n",
      "16\n",
      "17\n",
      "18\n",
      "19\n",
      "20\n",
      "1\n",
      "2\n",
      "3\n",
      "4\n",
      "5\n",
      "6\n",
      "7\n",
      "8\n",
      "9\n",
      "10\n",
      "11\n",
      "12\n",
      "13\n",
      "14\n",
      "15\n",
      "16\n",
      "17\n",
      "18\n",
      "19\n",
      "20\n"
     ]
    }
   ],
   "source": [
    "years = [i for i in range(2017, 2019)]\n",
    "for year in years:\n",
    "    url = f'https://www.pro-football-reference.com/play-index/psl_finder.cgi?request=1&match=single&year_min={year}&year_max={year}&season_start=1&season_end=-1&pos%5B%5D=qb&pos%5B%5D=rb&pos%5B%5D=wr&pos%5B%5D=te&pos%5B%5D=e&pos%5B%5D=t&pos%5B%5D=g&pos%5B%5D=c&pos%5B%5D=ol&pos%5B%5D=dt&pos%5B%5D=de&pos%5B%5D=dl&pos%5B%5D=ilb&pos%5B%5D=olb&pos%5B%5D=lb&pos%5B%5D=cb&pos%5B%5D=s&pos%5B%5D=db&pos%5B%5D=k&pos%5B%5D=p&draft_year_min=1936&draft_year_max=2019&draft_slot_min=1&draft_slot_max=500&draft_pick_in_round=pick_overall&conference=any&draft_pos%5B%5D=qb&draft_pos%5B%5D=rb&draft_pos%5B%5D=wr&draft_pos%5B%5D=te&draft_pos%5B%5D=e&draft_pos%5B%5D=t&draft_pos%5B%5D=g&draft_pos%5B%5D=c&draft_pos%5B%5D=ol&draft_pos%5B%5D=dt&draft_pos%5B%5D=de&draft_pos%5B%5D=dl&draft_pos%5B%5D=ilb&draft_pos%5B%5D=olb&draft_pos%5B%5D=lb&draft_pos%5B%5D=cb&draft_pos%5B%5D=s&draft_pos%5B%5D=db&draft_pos%5B%5D=k&draft_pos%5B%5D=p&c5val=1.0&order_by=av'\n",
    "    scrape_csv(url)"
   ]
  },
  {
   "cell_type": "code",
   "execution_count": 36,
   "metadata": {},
   "outputs": [
    {
     "name": "stdout",
     "output_type": "stream",
     "text": [
      "https://www.baseball-reference.com/play-index/season_finder.cgi?request=1&sum=0&as=result_batter&offset=0&type=b&min_year_season=2011&max_year_season=2011&min_season=1&max_season=-1&min_age=0&max_age=99&lg_ID=lgAny&lgAL_team=tmAny&lgNL_team=tmAny&lgFL_team=tmAny&lgAA_team=tmAny&lgPL_team=tmAny&lgUA_team=tmAny&lgNA_team=tmAny&isActive=active&isHOF=either&isAllstar=either&bats=any&throws=any&exactness=anypos&pos_1=1&pos_2=1&pos_3=1&pos_4=1&pos_5=1&pos_6=1&pos_7=1&pos_8=1&pos_9=1&pos_10=1&pos_11=1&games_min_max=min&qualifiersSeason=nomin&minpasValS=502&mingamesValS=100&qualifiersCareer=nomin&minpasValC=3000&mingamesValC=1000&c1gtlt=gt&c2gtlt=gt&c3gtlt=gt&c4gtlt=gt&c5gtlt=gt&c5val=1.0&location=pob&locationMatch=is&orderby=WAR_bat&number_matched=1\n"
     ]
    }
   ],
   "source": [
    "url = f'https://www.baseball-reference.com/play-index/season_finder.cgi?request=1&sum=0&as=result_batter&offset=0&type=b&min_year_season=2011&max_year_season=2011&min_season=1&max_season=-1&min_age=0&max_age=99&lg_ID=lgAny&lgAL_team=tmAny&lgNL_team=tmAny&lgFL_team=tmAny&lgAA_team=tmAny&lgPL_team=tmAny&lgUA_team=tmAny&lgNA_team=tmAny&isActive=active&isHOF=either&isAllstar=either&bats=any&throws=any&exactness=anypos&pos_1=1&pos_2=1&pos_3=1&pos_4=1&pos_5=1&pos_6=1&pos_7=1&pos_8=1&pos_9=1&pos_10=1&pos_11=1&games_min_max=min&qualifiersSeason=nomin&minpasValS=502&mingamesValS=100&qualifiersCareer=nomin&minpasValC=3000&mingamesValC=1000&c1gtlt=gt&c2gtlt=gt&c3gtlt=gt&c4gtlt=gt&c5gtlt=gt&c5val=1.0&location=pob&locationMatch=is&orderby=WAR_bat&number_matched=1'\n",
    "print(url)"
   ]
  },
  {
   "cell_type": "code",
   "execution_count": null,
   "metadata": {},
   "outputs": [],
   "source": [
    "pd.read_csv('unclean_data//tme')"
   ]
  }
 ],
 "metadata": {
  "kernelspec": {
   "display_name": "Python 3",
   "language": "python",
   "name": "python3"
  },
  "language_info": {
   "codemirror_mode": {
    "name": "ipython",
    "version": 3
   },
   "file_extension": ".py",
   "mimetype": "text/x-python",
   "name": "python",
   "nbconvert_exporter": "python",
   "pygments_lexer": "ipython3",
   "version": "3.7.1"
  }
 },
 "nbformat": 4,
 "nbformat_minor": 2
}
