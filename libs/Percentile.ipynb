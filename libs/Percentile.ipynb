{
 "cells": [
  {
   "cell_type": "code",
   "execution_count": 2,
   "metadata": {},
   "outputs": [],
   "source": [
    "import pandas as pd\n",
    "from scipy import stats"
   ]
  },
  {
   "cell_type": "code",
   "execution_count": 1,
   "metadata": {},
   "outputs": [
    {
     "ename": "NameError",
     "evalue": "name 'pd' is not defined",
     "output_type": "error",
     "traceback": [
      "\u001b[1;31m---------------------------------------------------------------------------\u001b[0m",
      "\u001b[1;31mNameError\u001b[0m                                 Traceback (most recent call last)",
      "\u001b[1;32m<ipython-input-1-d9a6a102ce35>\u001b[0m in \u001b[0;36m<module>\u001b[1;34m\u001b[0m\n\u001b[1;32m----> 1\u001b[1;33m \u001b[0mdf\u001b[0m \u001b[1;33m=\u001b[0m \u001b[0mpd\u001b[0m\u001b[1;33m.\u001b[0m\u001b[0mread_csv\u001b[0m\u001b[1;33m(\u001b[0m\u001b[1;34m'data/mlb_war_ratings_all.csv'\u001b[0m\u001b[1;33m)\u001b[0m\u001b[1;33m\u001b[0m\u001b[1;33m\u001b[0m\u001b[0m\n\u001b[0m\u001b[0;32m      2\u001b[0m \u001b[1;31m# df = df[df['AV'] >= 0]\u001b[0m\u001b[1;33m\u001b[0m\u001b[1;33m\u001b[0m\u001b[1;33m\u001b[0m\u001b[0m\n\u001b[0;32m      3\u001b[0m \u001b[0mdf\u001b[0m\u001b[1;33m.\u001b[0m\u001b[0mdropna\u001b[0m\u001b[1;33m(\u001b[0m\u001b[0msubset\u001b[0m \u001b[1;33m=\u001b[0m \u001b[1;33m[\u001b[0m\u001b[1;34m'WAR/pos'\u001b[0m\u001b[1;33m]\u001b[0m\u001b[1;33m,\u001b[0m \u001b[0minplace\u001b[0m \u001b[1;33m=\u001b[0m \u001b[1;32mTrue\u001b[0m\u001b[1;33m)\u001b[0m\u001b[1;33m\u001b[0m\u001b[1;33m\u001b[0m\u001b[0m\n\u001b[0;32m      4\u001b[0m \u001b[0mdf\u001b[0m\u001b[1;33m.\u001b[0m\u001b[0mreset_index\u001b[0m\u001b[1;33m(\u001b[0m\u001b[0mdrop\u001b[0m \u001b[1;33m=\u001b[0m \u001b[1;32mTrue\u001b[0m\u001b[1;33m,\u001b[0m \u001b[0minplace\u001b[0m \u001b[1;33m=\u001b[0m \u001b[1;32mTrue\u001b[0m\u001b[1;33m)\u001b[0m\u001b[1;33m\u001b[0m\u001b[1;33m\u001b[0m\u001b[0m\n\u001b[0;32m      5\u001b[0m \u001b[0mdf\u001b[0m\u001b[1;33m.\u001b[0m\u001b[0mhead\u001b[0m\u001b[1;33m(\u001b[0m\u001b[1;33m)\u001b[0m\u001b[1;33m\u001b[0m\u001b[1;33m\u001b[0m\u001b[0m\n",
      "\u001b[1;31mNameError\u001b[0m: name 'pd' is not defined"
     ]
    }
   ],
   "source": [
    "df = pd.read_csv('data/mlb_war_ratings_all.csv')\n",
    "# df = df[df['AV'] >= 0]\n",
    "df.dropna(subset = ['WAR/pos'], inplace = True)\n",
    "df.reset_index(drop = True, inplace = True)\n",
    "df.head()"
   ]
  },
  {
   "cell_type": "code",
   "execution_count": 62,
   "metadata": {},
   "outputs": [
    {
     "data": {
      "text/plain": [
       "99.79349509550852"
      ]
     },
     "execution_count": 62,
     "metadata": {},
     "output_type": "execute_result"
    }
   ],
   "source": [
    "stats.percentileofscore(df['PER'], 33)"
   ]
  },
  {
   "cell_type": "code",
   "execution_count": 75,
   "metadata": {},
   "outputs": [],
   "source": [
    "df['percentile_per'] = 0\n",
    "for i in range(len(df['WAR/pos'])):\n",
    "    av = df.loc[i]['WAR/pos']\n",
    "    df.iat[i, 3] = stats.percentileofscore(df['WAR/pos'], av) "
   ]
  },
  {
   "cell_type": "code",
   "execution_count": 36,
   "metadata": {},
   "outputs": [
    {
     "data": {
      "text/plain": [
       "20.0"
      ]
     },
     "execution_count": 36,
     "metadata": {},
     "output_type": "execute_result"
    }
   ],
   "source": [
    "df.loc[2]['AV']"
   ]
  },
  {
   "cell_type": "code",
   "execution_count": 76,
   "metadata": {},
   "outputs": [
    {
     "data": {
      "text/html": [
       "<div>\n",
       "<style scoped>\n",
       "    .dataframe tbody tr th:only-of-type {\n",
       "        vertical-align: middle;\n",
       "    }\n",
       "\n",
       "    .dataframe tbody tr th {\n",
       "        vertical-align: top;\n",
       "    }\n",
       "\n",
       "    .dataframe thead th {\n",
       "        text-align: right;\n",
       "    }\n",
       "</style>\n",
       "<table border=\"1\" class=\"dataframe\">\n",
       "  <thead>\n",
       "    <tr style=\"text-align: right;\">\n",
       "      <th></th>\n",
       "      <th>Unnamed: 0</th>\n",
       "      <th>Rk</th>\n",
       "      <th>Player</th>\n",
       "      <th>WAR/pos</th>\n",
       "      <th>Year</th>\n",
       "      <th>Age</th>\n",
       "      <th>Tm</th>\n",
       "      <th>Lg</th>\n",
       "      <th>G</th>\n",
       "      <th>PA</th>\n",
       "      <th>...</th>\n",
       "      <th>SF</th>\n",
       "      <th>GDP</th>\n",
       "      <th>SB</th>\n",
       "      <th>CS</th>\n",
       "      <th>BA</th>\n",
       "      <th>OBP</th>\n",
       "      <th>SLG</th>\n",
       "      <th>OPS</th>\n",
       "      <th>Pos</th>\n",
       "      <th>percentile_per</th>\n",
       "    </tr>\n",
       "  </thead>\n",
       "  <tbody>\n",
       "    <tr>\n",
       "      <th>0</th>\n",
       "      <td>0</td>\n",
       "      <td>1</td>\n",
       "      <td>Jose Bautista\\bautijo02</td>\n",
       "      <td>99.882629</td>\n",
       "      <td>2011</td>\n",
       "      <td>30</td>\n",
       "      <td>TOR</td>\n",
       "      <td>AL</td>\n",
       "      <td>149</td>\n",
       "      <td>655</td>\n",
       "      <td>...</td>\n",
       "      <td>4</td>\n",
       "      <td>8</td>\n",
       "      <td>9</td>\n",
       "      <td>5</td>\n",
       "      <td>0.302</td>\n",
       "      <td>0.447</td>\n",
       "      <td>0.608</td>\n",
       "      <td>1.056</td>\n",
       "      <td>*95/D</td>\n",
       "      <td>0</td>\n",
       "    </tr>\n",
       "    <tr>\n",
       "      <th>1</th>\n",
       "      <td>1</td>\n",
       "      <td>2</td>\n",
       "      <td>Jacoby Ellsbury\\ellsbja01</td>\n",
       "      <td>99.877526</td>\n",
       "      <td>2011</td>\n",
       "      <td>27</td>\n",
       "      <td>BOS</td>\n",
       "      <td>AL</td>\n",
       "      <td>158</td>\n",
       "      <td>732</td>\n",
       "      <td>...</td>\n",
       "      <td>5</td>\n",
       "      <td>8</td>\n",
       "      <td>39</td>\n",
       "      <td>15</td>\n",
       "      <td>0.321</td>\n",
       "      <td>0.376</td>\n",
       "      <td>0.552</td>\n",
       "      <td>0.928</td>\n",
       "      <td>*8/HD</td>\n",
       "      <td>0</td>\n",
       "    </tr>\n",
       "    <tr>\n",
       "      <th>2</th>\n",
       "      <td>2</td>\n",
       "      <td>3</td>\n",
       "      <td>Matt Kemp\\kempma01</td>\n",
       "      <td>99.831598</td>\n",
       "      <td>2011</td>\n",
       "      <td>26</td>\n",
       "      <td>LAD</td>\n",
       "      <td>NL</td>\n",
       "      <td>161</td>\n",
       "      <td>689</td>\n",
       "      <td>...</td>\n",
       "      <td>7</td>\n",
       "      <td>16</td>\n",
       "      <td>40</td>\n",
       "      <td>11</td>\n",
       "      <td>0.324</td>\n",
       "      <td>0.399</td>\n",
       "      <td>0.586</td>\n",
       "      <td>0.986</td>\n",
       "      <td>*8/DH</td>\n",
       "      <td>0</td>\n",
       "    </tr>\n",
       "    <tr>\n",
       "      <th>3</th>\n",
       "      <td>3</td>\n",
       "      <td>4</td>\n",
       "      <td>Dustin Pedroia\\pedrodu01</td>\n",
       "      <td>99.826495</td>\n",
       "      <td>2011</td>\n",
       "      <td>27</td>\n",
       "      <td>BOS</td>\n",
       "      <td>AL</td>\n",
       "      <td>159</td>\n",
       "      <td>731</td>\n",
       "      <td>...</td>\n",
       "      <td>7</td>\n",
       "      <td>12</td>\n",
       "      <td>26</td>\n",
       "      <td>8</td>\n",
       "      <td>0.307</td>\n",
       "      <td>0.387</td>\n",
       "      <td>0.474</td>\n",
       "      <td>0.861</td>\n",
       "      <td>*4/H</td>\n",
       "      <td>0</td>\n",
       "    </tr>\n",
       "    <tr>\n",
       "      <th>4</th>\n",
       "      <td>4</td>\n",
       "      <td>5</td>\n",
       "      <td>Ryan Braun\\braunry02</td>\n",
       "      <td>99.739743</td>\n",
       "      <td>2011</td>\n",
       "      <td>27</td>\n",
       "      <td>MIL</td>\n",
       "      <td>NL</td>\n",
       "      <td>150</td>\n",
       "      <td>629</td>\n",
       "      <td>...</td>\n",
       "      <td>3</td>\n",
       "      <td>9</td>\n",
       "      <td>33</td>\n",
       "      <td>6</td>\n",
       "      <td>0.332</td>\n",
       "      <td>0.397</td>\n",
       "      <td>0.597</td>\n",
       "      <td>0.994</td>\n",
       "      <td>*7/HD</td>\n",
       "      <td>0</td>\n",
       "    </tr>\n",
       "  </tbody>\n",
       "</table>\n",
       "<p>5 rows × 32 columns</p>\n",
       "</div>"
      ],
      "text/plain": [
       "   Unnamed: 0  Rk                     Player    WAR/pos  Year  Age   Tm  Lg  \\\n",
       "0           0   1    Jose Bautista\\bautijo02  99.882629  2011   30  TOR  AL   \n",
       "1           1   2  Jacoby Ellsbury\\ellsbja01  99.877526  2011   27  BOS  AL   \n",
       "2           2   3         Matt Kemp\\kempma01  99.831598  2011   26  LAD  NL   \n",
       "3           3   4   Dustin Pedroia\\pedrodu01  99.826495  2011   27  BOS  AL   \n",
       "4           4   5       Ryan Braun\\braunry02  99.739743  2011   27  MIL  NL   \n",
       "\n",
       "     G   PA       ...        SF  GDP  SB  CS     BA    OBP    SLG    OPS  \\\n",
       "0  149  655       ...         4    8   9   5  0.302  0.447  0.608  1.056   \n",
       "1  158  732       ...         5    8  39  15  0.321  0.376  0.552  0.928   \n",
       "2  161  689       ...         7   16  40  11  0.324  0.399  0.586  0.986   \n",
       "3  159  731       ...         7   12  26   8  0.307  0.387  0.474  0.861   \n",
       "4  150  629       ...         3    9  33   6  0.332  0.397  0.597  0.994   \n",
       "\n",
       "     Pos  percentile_per  \n",
       "0  *95/D               0  \n",
       "1  *8/HD               0  \n",
       "2  *8/DH               0  \n",
       "3   *4/H               0  \n",
       "4  *7/HD               0  \n",
       "\n",
       "[5 rows x 32 columns]"
      ]
     },
     "execution_count": 76,
     "metadata": {},
     "output_type": "execute_result"
    }
   ],
   "source": [
    "df.head()"
   ]
  },
  {
   "cell_type": "code",
   "execution_count": 69,
   "metadata": {},
   "outputs": [],
   "source": [
    "df.to_csv('data/nba_per_ratings_all.csv')"
   ]
  },
  {
   "cell_type": "code",
   "execution_count": null,
   "metadata": {},
   "outputs": [],
   "source": []
  }
 ],
 "metadata": {
  "kernelspec": {
   "display_name": "Python 3",
   "language": "python",
   "name": "python3"
  },
  "language_info": {
   "codemirror_mode": {
    "name": "ipython",
    "version": 3
   },
   "file_extension": ".py",
   "mimetype": "text/x-python",
   "name": "python",
   "nbconvert_exporter": "python",
   "pygments_lexer": "ipython3",
   "version": "3.7.1"
  }
 },
 "nbformat": 4,
 "nbformat_minor": 2
}
