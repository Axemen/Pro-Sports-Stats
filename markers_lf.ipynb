{
 "cells": [
  {
   "cell_type": "markdown",
   "metadata": {},
   "source": [
    "#determining what info should go in markers\n",
    "\n",
    "##on the click of each state, we will display the data below that represents the best player for each sport from that state\n",
    "\n",
    "      \n",
    "// Creates a red marker with the coffee icon\n",
    "var nbaMarker = L.AwesomeMarkers.icon({\n",
    "    icon: 'basketball',\n",
    "    markerColor: 'red'\n",
    "  });\n",
    "                  ###Inside the Marker###\n",
    "      ###Players school\n",
    "      ###We will want the top rated player in PER as an average over the time of our data.\n",
    "      ###Player's Salary over the span of our data\n",
    "\n",
    "var mlbMarker = L.AwesomeMarkers.icon({\n",
    "    icon: 'baseball',\n",
    "    markerColor: 'blue'\n",
    "  });\n",
    "                    ###Inside the Marker###\n",
    "      ###Players school\n",
    "      ###We will want the top rated player in WAR as a sum over the span of our data.\n",
    "      ###Player's Salary over the span of our data\n",
    "  \n",
    "\n",
    "var nflMarker = L.AwesomeMarkers.icon({\n",
    "    icon: 'football',\n",
    "    markerColor: 'green'\n",
    "  });\n",
    "  \n",
    "                      ###Inside the Marker###\n",
    "      ###Players school\n",
    "      ###We will want the top rated player in AV as an average over the span of our data (possibly percentile rank instead?)\n",
    "      ###Player's Salary over the span of our data\n",
    "      \n",
    "L.marker([51.941196,4.512291], {icon: nbaMarker}).addTo(map);\n",
    "L.marker([51.941196,4.512291], {icon: mlbMarker}).addTo(map);\n",
    "L.marker([51.941196,4.512291], {icon: nflMarker}).addTo(map);"
   ]
  },
  {
   "cell_type": "markdown",
   "metadata": {},
   "source": [
    "https://github.com/lvoogdt/Leaflet.awesome-markers\n",
    "https://ionicons.com/\n",
    "\n",
    "CDN:\n",
    "<link rel=\"stylesheet\" href=\"http://code.ionicframework.com/ionicons/1.5.2/css/ionicons.min.css\">\n",
    "<link rel=\"stylesheet\" href=\"css/leaflet.awesome-markers.css\">\n",
    "<script src=\"js/leaflet.awesome-markers.js\"></script>"
   ]
  }
 ],
 "metadata": {
  "kernelspec": {
   "display_name": "Python 3",
   "language": "python",
   "name": "python3"
  },
  "language_info": {
   "codemirror_mode": {
    "name": "ipython",
    "version": 3
   },
   "file_extension": ".py",
   "mimetype": "text/x-python",
   "name": "python",
   "nbconvert_exporter": "python",
   "pygments_lexer": "ipython3",
   "version": "3.7.1"
  }
 },
 "nbformat": 4,
 "nbformat_minor": 2
}
